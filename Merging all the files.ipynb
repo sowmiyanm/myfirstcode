{
 "cells": [
  {
   "cell_type": "code",
   "execution_count": 3,
   "metadata": {
    "collapsed": true
   },
   "outputs": [],
   "source": [
    "import pandas as pd\n",
    "import numpy as np\n",
    "import os \n",
    "import glob"
   ]
  },
  {
   "cell_type": "code",
   "execution_count": 6,
   "metadata": {},
   "outputs": [
    {
     "name": "stdout",
     "output_type": "stream",
     "text": [
      "(1633358, 3)\n",
      "(5498767, 3)\n",
      "(1065996, 3)\n",
      "(5633167, 3)\n",
      "(4710710, 3)\n",
      "(3095797, 3)\n",
      "(2870100, 3)\n",
      "(3484107, 3)\n",
      "(2253409, 3)\n",
      "(1195578, 3)\n"
     ]
    }
   ],
   "source": [
    "one=pd.read_csv(\"Train_1.csv\")\n",
    "print one.shape\n",
    "two=pd.read_csv(\"Train_2.csv\")\n",
    "print two.shape\n",
    "th=pd.read_csv(\"Train_3.csv\")\n",
    "print th.shape\n",
    "fo=pd.read_csv(\"Train_4.csv\")\n",
    "print fo.shape\n",
    "fi=pd.read_csv(\"Train_5.csv\")\n",
    "print fi.shape\n",
    "si=pd.read_csv(\"Train_6.csv\")\n",
    "print si.shape\n",
    "sev=pd.read_csv(\"Train_7.csv\")\n",
    "print sev.shape\n",
    "ei=pd.read_csv(\"Train_8.csv\")\n",
    "print ei.shape\n",
    "ni=pd.read_csv(\"Train_9.csv\")\n",
    "print ni.shape\n",
    "ten=pd.read_csv(\"Train_10.csv\")\n",
    "print ten.shape\n",
    "\n"
   ]
  },
  {
   "cell_type": "code",
   "execution_count": 4,
   "metadata": {
    "collapsed": true
   },
   "outputs": [],
   "source": [
    "interesting_files = glob.glob(\"*.csv\")\n",
    "df_list = []\n",
    "for filename in sorted(interesting_files):\n",
    "    df_list.append(pd.read_csv(filename))\n",
    "full_df = pd.concat(df_list)"
   ]
  },
  {
   "cell_type": "code",
   "execution_count": 9,
   "metadata": {
    "collapsed": true
   },
   "outputs": [],
   "source": [
    "full_df.to_csv(\"Complete_train.csv\",index=False)\n",
    "print full_df.shape\n",
    "#(31440989, 3)"
   ]
  },
  {
   "cell_type": "code",
   "execution_count": 10,
   "metadata": {},
   "outputs": [
    {
     "data": {
      "text/plain": [
       "'/Users/sowmiyanmorri/Documents/Data Science/Hackathons/Techgig_ClickPrediction/Train'"
      ]
     },
     "execution_count": 10,
     "metadata": {},
     "output_type": "execute_result"
    }
   ],
   "source": [
    "os.getcwd()"
   ]
  },
  {
   "cell_type": "code",
   "execution_count": 59,
   "metadata": {},
   "outputs": [
    {
     "data": {
      "text/plain": [
       "(3213, 4)"
      ]
     },
     "execution_count": 59,
     "metadata": {},
     "output_type": "execute_result"
    }
   ],
   "source": [
    "df.shape"
   ]
  },
  {
   "cell_type": "code",
   "execution_count": 142,
   "metadata": {
    "collapsed": true
   },
   "outputs": [],
   "source": []
  },
  {
   "cell_type": "code",
   "execution_count": 143,
   "metadata": {
    "collapsed": true
   },
   "outputs": [],
   "source": []
  },
  {
   "cell_type": "code",
   "execution_count": 147,
   "metadata": {
    "collapsed": true
   },
   "outputs": [],
   "source": []
  },
  {
   "cell_type": "code",
   "execution_count": null,
   "metadata": {
    "collapsed": true
   },
   "outputs": [],
   "source": []
  },
  {
   "cell_type": "markdown",
   "metadata": {},
   "source": [
    "## Item Attributes cleaning"
   ]
  },
  {
   "cell_type": "code",
   "execution_count": null,
   "metadata": {
    "collapsed": true
   },
   "outputs": [],
   "source": [
    "import os\n",
    "os.chdir(\"/Users/sowmiyanmorri/Documents/Data Science/Hackathons/Techgig_ClickPrediction/Item_Attributes\")\n",
    "\n",
    "item_1=pd.read_csv(\"Item_Attributes_1.csv\")\n",
    "item_2=pd.read_csv(\"Item_Attributes_2.csv\")\n",
    "item_3=pd.read_csv(\"Item_Attributes_3.csv\")\n",
    "\n",
    "\n",
    "item_1[\"new\"]=item_1[item_1.columns[:]].apply(lambda x: ' '.join(x.dropna().astype(str)),axis=1)\n",
    "item_2[\"new\"]=item_2[item_2.columns[:]].apply(lambda x: ' '.join(x.dropna().astype(str)),axis=1)\n",
    "item_3[\"new\"]=item_3[item_3.columns[:]].apply(lambda x: ' '.join(x.dropna().astype(str)),axis=1)\n",
    "\n",
    "\n",
    "item=pd.DataFrame()\n",
    "item['x']=item_1['new'].append(item_2['new']).append(item_3['new'])\n",
    "\n",
    "\n",
    "## Count no of | in each row\n",
    "item['pipe_count'] = item.x.apply(lambda x: str.count(x, '|'))\n",
    "\n",
    "\n",
    "\n",
    "item['y']=item.x.apply(lambda x: (re.search(r'[|]+([-.:\\w]+)[+]',str(x)).group(1) if (re.search(r'[|]+([-.:\\w]+)[+]',str(x))) is not None else \"Others\"))\n",
    "\n",
    "\n",
    "item['item_id']=item.x.apply(lambda x: (re.search(r'([-.:\\w]+)[|]',str(x)).group(1) if (re.search(r'([-.:\\w]+)[|]',str(x))) is not None else \"Others\"))"
   ]
  },
  {
   "cell_type": "markdown",
   "metadata": {},
   "source": [
    "## Creating IMpression file"
   ]
  },
  {
   "cell_type": "code",
   "execution_count": 5,
   "metadata": {},
   "outputs": [
    {
     "name": "stderr",
     "output_type": "stream",
     "text": [
      "/Users/sowmiyanmorri/anaconda/lib/python2.7/site-packages/IPython/core/interactiveshell.py:2717: DtypeWarning: Columns (7) have mixed types. Specify dtype option on import or set low_memory=False.\n",
      "  interactivity=interactivity, compiler=compiler, result=result)\n"
     ]
    }
   ],
   "source": [
    "os.chdir('/Users/sowmiyanmorri/Documents/Data Science/Hackathons/Techgig_ClickPrediction/Impression_Id_Attributes/Complete_Impression')\n",
    "import pandas as pd\n",
    "import glob\n",
    "interesting_files = glob.glob(\"*.csv\")\n",
    "df_list = []\n",
    "for filename in sorted(interesting_files):\n",
    "    df_list.append(pd.read_csv(filename))\n",
    "full_df = pd.concat(df_list)\n",
    "\n",
    "new_df=full_df.dropna(subset = ['impression_id'])\n",
    "\n",
    "new_df.to_csv(\"Complete_Impression.csv\",index=False)\n"
   ]
  },
  {
   "cell_type": "markdown",
   "metadata": {},
   "source": [
    "## Creating Item Category Map files"
   ]
  },
  {
   "cell_type": "code",
   "execution_count": 226,
   "metadata": {
    "collapsed": true
   },
   "outputs": [],
   "source": [
    "os.chdir('/Users/sowmiyanmorri/Documents/Data Science/Hackathons/Techgig_ClickPrediction/Item_Category_Map')\n",
    "\n",
    "interesting_files = glob.glob(\"*.csv\")\n",
    "df_list = []\n",
    "for filename in sorted(interesting_files):\n",
    "    df_list.append(pd.read_csv(filename))\n",
    "full_df = pd.concat(df_list)#18809\n",
    "\n",
    "#\n",
    "#new_df.to_csv(\"Complete_item_categorymap.csv\",index=False)\n",
    "\n",
    "new_df=full_df[~((full_df.Keywords.isnull())&(full_df.Concepts.isnull()))]\n",
    "\n",
    "\n",
    "new_df.Concepts_Score.loc[new_df.Concepts_Score.isnull()]=0.0\n",
    "new_df.Keywords_Score.loc[new_df.Keywords_Score.isnull()]=0.0\n",
    "\n",
    "\n",
    "new_df['Keyword_count']=new_df.Keywords_Score.apply(lambda x: (len(str(x).split(','))))\n",
    "new_df['Concept_count']=new_df.Concepts_Score.apply(lambda x: (len(str(x).split(','))))\n",
    "\n",
    "\n",
    "new_df['Keyword_Median'] = new_df['Keywords_Score'].apply(lambda x: np.median(map(float, str(x).split(','))))\n",
    "new_df['Concept_Median'] = new_df['Concepts_Score'].apply(lambda x: np.median(map(float, str(x).split(','))))\n",
    "\n",
    "\n",
    "new_df.item_id=new_df.item_id.astype('int')\n",
    "\n",
    "new_df.to_csv(\"Complete_Item_Category.csv\",index=False)"
   ]
  }
 ],
 "metadata": {
  "kernelspec": {
   "display_name": "Python 2",
   "language": "python",
   "name": "python2"
  },
  "language_info": {
   "codemirror_mode": {
    "name": "ipython",
    "version": 2
   },
   "file_extension": ".py",
   "mimetype": "text/x-python",
   "name": "python",
   "nbconvert_exporter": "python",
   "pygments_lexer": "ipython2",
   "version": "2.7.13"
  }
 },
 "nbformat": 4,
 "nbformat_minor": 2
}
