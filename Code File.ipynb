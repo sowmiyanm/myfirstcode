{
 "cells": [
  {
   "cell_type": "code",
   "execution_count": 1,
   "metadata": {
    "collapsed": true
   },
   "outputs": [],
   "source": [
    "import pandas as pd\n",
    "import numpy as np\n",
    "import gc # We're gonna be clearing memory a lot\n",
    "import matplotlib.pyplot as plt\n",
    "import seaborn as sns\n",
    "%matplotlib inline"
   ]
  },
  {
   "cell_type": "code",
   "execution_count": 2,
   "metadata": {
    "collapsed": true
   },
   "outputs": [],
   "source": [
    "train=pd.read_csv(\"Complete_train.csv\")\n",
    "test=pd.read_csv(\"test-data.csv\")\n",
    "\n",
    "\n",
    "# 1    0.993864\n",
    "# 2    0.006136"
   ]
  },
  {
   "cell_type": "code",
   "execution_count": 3,
   "metadata": {},
   "outputs": [
    {
     "name": "stderr",
     "output_type": "stream",
     "text": [
      "/Users/sowmiyanmorri/anaconda/lib/python2.7/site-packages/IPython/core/interactiveshell.py:2717: DtypeWarning: Columns (0,5,7) have mixed types. Specify dtype option on import or set low_memory=False.\n",
      "  interactivity=interactivity, compiler=compiler, result=result)\n"
     ]
    }
   ],
   "source": [
    "impression=pd.read_csv(\"Complete_Impression.csv\")"
   ]
  },
  {
   "cell_type": "code",
   "execution_count": 4,
   "metadata": {},
   "outputs": [
    {
     "data": {
      "text/plain": [
       "impression_id            object\n",
       "geo                     float64\n",
       "site_id                   int64\n",
       "uuid                     object\n",
       "adunit_id                 int64\n",
       "refrenceUrl              object\n",
       "timestamp_impression     object\n",
       "uvh                      object\n",
       "dtype: object"
      ]
     },
     "execution_count": 4,
     "metadata": {},
     "output_type": "execute_result"
    }
   ],
   "source": [
    "impression.dtypes"
   ]
  },
  {
   "cell_type": "code",
   "execution_count": 5,
   "metadata": {},
   "outputs": [
    {
     "data": {
      "text/plain": [
       "impression_id            2563614.0\n",
       "geo                      2495010.0\n",
       "site_id                        0.0\n",
       "uuid                           0.0\n",
       "adunit_id                      0.0\n",
       "refrenceUrl              2570059.0\n",
       "timestamp_impression           0.0\n",
       "uvh                     10894611.0\n",
       "dtype: float64"
      ]
     },
     "execution_count": 5,
     "metadata": {},
     "output_type": "execute_result"
    }
   ],
   "source": [
    "impression.isnull().sum()*1.0"
   ]
  },
  {
   "cell_type": "code",
   "execution_count": 6,
   "metadata": {},
   "outputs": [
    {
     "data": {
      "text/plain": [
       "2563614"
      ]
     },
     "execution_count": 6,
     "metadata": {},
     "output_type": "execute_result"
    }
   ],
   "source": [
    "854538+854540+854536"
   ]
  },
  {
   "cell_type": "code",
   "execution_count": 7,
   "metadata": {},
   "outputs": [
    {
     "data": {
      "text/plain": [
       "impression_id           30123717\n",
       "geo                           40\n",
       "site_id                      331\n",
       "uuid                     6343104\n",
       "adunit_id                    837\n",
       "refrenceUrl               360869\n",
       "timestamp_impression    30852318\n",
       "uvh                      4411362\n",
       "dtype: int64"
      ]
     },
     "execution_count": 7,
     "metadata": {},
     "output_type": "execute_result"
    }
   ],
   "source": [
    "impression.nunique()"
   ]
  },
  {
   "cell_type": "code",
   "execution_count": 3,
   "metadata": {},
   "outputs": [
    {
     "name": "stdout",
     "output_type": "stream",
     "text": [
      "(188798, 2)\n",
      "impression_id    58879\n",
      "item_id           5167\n",
      "dtype: int64\n"
     ]
    }
   ],
   "source": [
    "print test.shape\n",
    "print test.nunique()"
   ]
  },
  {
   "cell_type": "code",
   "execution_count": 8,
   "metadata": {},
   "outputs": [
    {
     "data": {
      "text/plain": [
       "impression_id    7664607\n",
       "item_id             6103\n",
       "click                  2\n",
       "dtype: int64"
      ]
     },
     "execution_count": 8,
     "metadata": {},
     "output_type": "execute_result"
    }
   ],
   "source": [
    "train.nunique()"
   ]
  },
  {
   "cell_type": "code",
   "execution_count": 9,
   "metadata": {},
   "outputs": [
    {
     "data": {
      "text/html": [
       "<div>\n",
       "<style scoped>\n",
       "    .dataframe tbody tr th:only-of-type {\n",
       "        vertical-align: middle;\n",
       "    }\n",
       "\n",
       "    .dataframe tbody tr th {\n",
       "        vertical-align: top;\n",
       "    }\n",
       "\n",
       "    .dataframe thead th {\n",
       "        text-align: right;\n",
       "    }\n",
       "</style>\n",
       "<table border=\"1\" class=\"dataframe\">\n",
       "  <thead>\n",
       "    <tr style=\"text-align: right;\">\n",
       "      <th></th>\n",
       "      <th>impression_id</th>\n",
       "      <th>item_id</th>\n",
       "      <th>click</th>\n",
       "    </tr>\n",
       "  </thead>\n",
       "  <tbody>\n",
       "    <tr>\n",
       "      <th>0</th>\n",
       "      <td>00023151-2f1e-429b-89a5-2f360dad9880-10nql</td>\n",
       "      <td>17066860</td>\n",
       "      <td>1</td>\n",
       "    </tr>\n",
       "    <tr>\n",
       "      <th>1</th>\n",
       "      <td>00023151-2f1e-429b-89a5-2f360dad9880-10nql</td>\n",
       "      <td>17277475</td>\n",
       "      <td>1</td>\n",
       "    </tr>\n",
       "    <tr>\n",
       "      <th>2</th>\n",
       "      <td>00023151-2f1e-429b-89a5-2f360dad9880-10nql</td>\n",
       "      <td>17325528</td>\n",
       "      <td>1</td>\n",
       "    </tr>\n",
       "    <tr>\n",
       "      <th>3</th>\n",
       "      <td>00023151-2f1e-429b-89a5-2f360dad9880-10nql</td>\n",
       "      <td>17325531</td>\n",
       "      <td>1</td>\n",
       "    </tr>\n",
       "    <tr>\n",
       "      <th>4</th>\n",
       "      <td>0004fb27-7548-46b6-9db7-666c2d9d7def-10wx4</td>\n",
       "      <td>17052046</td>\n",
       "      <td>1</td>\n",
       "    </tr>\n",
       "  </tbody>\n",
       "</table>\n",
       "</div>"
      ],
      "text/plain": [
       "                                impression_id   item_id  click\n",
       "0  00023151-2f1e-429b-89a5-2f360dad9880-10nql  17066860      1\n",
       "1  00023151-2f1e-429b-89a5-2f360dad9880-10nql  17277475      1\n",
       "2  00023151-2f1e-429b-89a5-2f360dad9880-10nql  17325528      1\n",
       "3  00023151-2f1e-429b-89a5-2f360dad9880-10nql  17325531      1\n",
       "4  0004fb27-7548-46b6-9db7-666c2d9d7def-10wx4  17052046      1"
      ]
     },
     "execution_count": 9,
     "metadata": {},
     "output_type": "execute_result"
    }
   ],
   "source": [
    "submission=pd.read_csv(\"sample-submission.csv\")\n",
    "submission.click=1\n",
    "submission.head()"
   ]
  },
  {
   "cell_type": "code",
   "execution_count": 10,
   "metadata": {
    "collapsed": true
   },
   "outputs": [],
   "source": [
    "submission.to_csv(\"sub_1.csv\",index=False)"
   ]
  },
  {
   "cell_type": "markdown",
   "metadata": {},
   "source": [
    "#Check if impression_ids with no click and click are exclusive set"
   ]
  },
  {
   "cell_type": "markdown",
   "metadata": {},
   "source": [
    "This will help me to identify if these are exclusive...what are the impression attributes contributing to click"
   ]
  },
  {
   "cell_type": "code",
   "execution_count": 11,
   "metadata": {},
   "outputs": [
    {
     "data": {
      "text/plain": [
       "7664607"
      ]
     },
     "execution_count": 11,
     "metadata": {},
     "output_type": "execute_result"
    }
   ],
   "source": [
    "train.impression_id.nunique()"
   ]
  },
  {
   "cell_type": "code",
   "execution_count": 12,
   "metadata": {
    "collapsed": true
   },
   "outputs": [],
   "source": [
    "#Check if impression_ids with no click and click are exclusive set\n",
    "imp_c=train.impression_id[train.click==2]\n",
    "imp_nc=train.impression_id[train.click==1]"
   ]
  },
  {
   "cell_type": "code",
   "execution_count": 13,
   "metadata": {},
   "outputs": [
    {
     "name": "stdout",
     "output_type": "stream",
     "text": [
      "95526\n",
      "7660640\n"
     ]
    }
   ],
   "source": [
    "print len(list(set(imp_c)))#95526 impression id where click occurred\n",
    "print len(list(set(imp_nc)))#impresssion ids where no click occurred"
   ]
  },
  {
   "cell_type": "code",
   "execution_count": 14,
   "metadata": {},
   "outputs": [
    {
     "name": "stdout",
     "output_type": "stream",
     "text": [
      "3966\n",
      "7569080\n"
     ]
    }
   ],
   "source": [
    "print len(list(set(imp_c)-set(imp_nc)))#3966 impression which had only click\n",
    "print len(list(set(imp_nc)-set(imp_c)))#7569080 where no click at all"
   ]
  },
  {
   "cell_type": "code",
   "execution_count": 18,
   "metadata": {},
   "outputs": [
    {
     "name": "stdout",
     "output_type": "stream",
     "text": [
      "91560\n"
     ]
    }
   ],
   "source": [
    "print len(list((set(imp_c)).intersection(set(imp_nc))))#91560 where both no click and click were present\n",
    "#Explore these impression ids only to train your model to train click/no_click\n",
    "train_imp_id=list((set(imp_c)).intersection(set(imp_nc)))"
   ]
  },
  {
   "cell_type": "markdown",
   "metadata": {},
   "source": [
    "#Get these 3966 impression ids and club them with their attributes to see if any pattern can be identified"
   ]
  },
  {
   "cell_type": "code",
   "execution_count": 30,
   "metadata": {
    "collapsed": true
   },
   "outputs": [],
   "source": [
    "imp_c_specific=list(set(imp_c)-set(imp_nc))"
   ]
  },
  {
   "cell_type": "code",
   "execution_count": 31,
   "metadata": {
    "collapsed": true
   },
   "outputs": [],
   "source": [
    "impression_sub=impression[impression.impression_id.isin(imp_c_specific)]"
   ]
  },
  {
   "cell_type": "code",
   "execution_count": 32,
   "metadata": {},
   "outputs": [
    {
     "name": "stdout",
     "output_type": "stream",
     "text": [
      "(33030792, 8)\n",
      "(5295, 8)\n"
     ]
    }
   ],
   "source": [
    "print impression.shape\n",
    "print impression_sub.shape"
   ]
  },
  {
   "cell_type": "code",
   "execution_count": 33,
   "metadata": {},
   "outputs": [
    {
     "data": {
      "text/plain": [
       "impression_id           3339\n",
       "geo                       31\n",
       "site_id                  123\n",
       "uuid                    3374\n",
       "adunit_id                239\n",
       "refrenceUrl             1864\n",
       "timestamp_impression    5295\n",
       "uvh                      563\n",
       "dtype: int64"
      ]
     },
     "execution_count": 33,
     "metadata": {},
     "output_type": "execute_result"
    }
   ],
   "source": [
    "impression_sub.nunique()#We have only 3339 impression ids data in the attribute file"
   ]
  },
  {
   "cell_type": "code",
   "execution_count": 19,
   "metadata": {},
   "outputs": [
    {
     "name": "stdout",
     "output_type": "stream",
     "text": [
      "58879\n",
      "7664607\n",
      "Only in train 7656365\n",
      "Only in test 50637\n",
      "Common in both 8242\n"
     ]
    }
   ],
   "source": [
    "imp_test=test.impression_id.unique()\n",
    "imp_train=train.impression_id.unique()\n",
    "print len(imp_test)\n",
    "print len(imp_train)\n",
    "\n",
    "imp_in_train=list(set(imp_train)-set(imp_test))\n",
    "print \"Only in train {}\".format(len(imp_in_train))\n",
    "\n",
    "imp_in_test=list(set(imp_test)-set(imp_train))\n",
    "print \"Only in test {}\".format(len(imp_in_test))\n",
    "\n",
    "imp_common=(list(set(imp_test).intersection(imp_train)))\n",
    "print \"Common in both {}\".format(len(list(set(imp_test).intersection(imp_train))))"
   ]
  },
  {
   "cell_type": "code",
   "execution_count": null,
   "metadata": {
    "collapsed": true
   },
   "outputs": [],
   "source": [
    "#This attributes of this subset can be explored to see if we can draw more pattern"
   ]
  },
  {
   "cell_type": "code",
   "execution_count": 54,
   "metadata": {
    "collapsed": true
   },
   "outputs": [],
   "source": [
    "geo_sp=impression_sub.geo.unique()\n",
    "site_id_sp=impression_sub.site_id.unique()\n",
    "uuid_sp=impression_sub.uuid.unique()\n",
    "adunit_id_sp=impression_sub.adunit_id.unique()\n",
    "Url_sp=impression_sub.refrenceUrl.unique()\n",
    "uvh_sp=impression_sub.uvh.unique()\n",
    "tim_sp=impression_sub.timestamp_impression.unique()"
   ]
  },
  {
   "cell_type": "code",
   "execution_count": 59,
   "metadata": {},
   "outputs": [
    {
     "data": {
      "text/plain": [
       "1.0    9513503\n",
       "2.0      76897\n",
       "Name: click, dtype: int64"
      ]
     },
     "execution_count": 59,
     "metadata": {},
     "output_type": "execute_result"
    }
   ],
   "source": [
    "#Idea is to check if % of click 2 is very high for the above got impression id attributes\n",
    "# ids=impression.impression_id[impression.geo.isin(geo_sp)]\n",
    "# train_chk=train[train.impression_id.isin(ids)]\n",
    "# train_chk.click.value_counts()"
   ]
  },
  {
   "cell_type": "code",
   "execution_count": 60,
   "metadata": {},
   "outputs": [
    {
     "data": {
      "text/plain": [
       "1.0    9561886\n",
       "2.0      76703\n",
       "Name: click, dtype: int64"
      ]
     },
     "execution_count": 60,
     "metadata": {},
     "output_type": "execute_result"
    }
   ],
   "source": [
    "ids=impression.impression_id[impression.site_id.isin(site_id_sp)]\n",
    "train_chk=train[train.impression_id.isin(ids)]\n",
    "train_chk.click.value_counts()"
   ]
  },
  {
   "cell_type": "code",
   "execution_count": 61,
   "metadata": {},
   "outputs": [
    {
     "data": {
      "text/plain": [
       "1.0    20711\n",
       "2.0     4100\n",
       "Name: click, dtype: int64"
      ]
     },
     "execution_count": 61,
     "metadata": {},
     "output_type": "execute_result"
    }
   ],
   "source": [
    "ids=impression.impression_id[impression.uuid.isin(uuid_sp)]\n",
    "train_chk=train[train.impression_id.isin(ids)]\n",
    "train_chk.click.value_counts()"
   ]
  },
  {
   "cell_type": "code",
   "execution_count": 62,
   "metadata": {},
   "outputs": [
    {
     "data": {
      "text/plain": [
       "1.0    9533226\n",
       "2.0      76329\n",
       "Name: click, dtype: int64"
      ]
     },
     "execution_count": 62,
     "metadata": {},
     "output_type": "execute_result"
    }
   ],
   "source": [
    "ids=impression.impression_id[impression.adunit_id.isin(adunit_id_sp)]\n",
    "train_chk=train[train.impression_id.isin(ids)]\n",
    "train_chk.click.value_counts()"
   ]
  },
  {
   "cell_type": "code",
   "execution_count": 63,
   "metadata": {},
   "outputs": [
    {
     "data": {
      "text/plain": [
       "1.0    3396940\n",
       "2.0      37933\n",
       "Name: click, dtype: int64"
      ]
     },
     "execution_count": 63,
     "metadata": {},
     "output_type": "execute_result"
    }
   ],
   "source": [
    "ids=impression.impression_id[impression.refrenceUrl.isin(Url_sp)]\n",
    "train_chk=train[train.impression_id.isin(ids)]\n",
    "train_chk.click.value_counts()"
   ]
  },
  {
   "cell_type": "code",
   "execution_count": 64,
   "metadata": {},
   "outputs": [
    {
     "data": {
      "text/plain": [
       "1.0    136889\n",
       "2.0      1342\n",
       "Name: click, dtype: int64"
      ]
     },
     "execution_count": 64,
     "metadata": {},
     "output_type": "execute_result"
    }
   ],
   "source": [
    "ids=impression.impression_id[impression.uvh.isin(uvh_sp)]\n",
    "train_chk=train[train.impression_id.isin(ids)]\n",
    "train_chk.click.value_counts()"
   ]
  },
  {
   "cell_type": "code",
   "execution_count": 69,
   "metadata": {},
   "outputs": [
    {
     "name": "stdout",
     "output_type": "stream",
     "text": [
      "3951\n",
      "6092\n",
      "6103\n"
     ]
    }
   ],
   "source": [
    "item_2=train.item_id[train.click==2]\n",
    "item_1=train.item_id[train.click==1]\n",
    "print len(set(item_2))\n",
    "print len(set(item_1))\n",
    "print train.item_id.nunique()"
   ]
  },
  {
   "cell_type": "code",
   "execution_count": 72,
   "metadata": {},
   "outputs": [
    {
     "name": "stdout",
     "output_type": "stream",
     "text": [
      "11\n",
      "2152\n"
     ]
    }
   ],
   "source": [
    "item_only_2=list(set(item_2)-set(item_1))\n",
    "print len(item_only_2)\n",
    "\n",
    "item_only_1=list(set(item_1)-set(item_2))\n",
    "print len(item_only_1)"
   ]
  },
  {
   "cell_type": "code",
   "execution_count": 115,
   "metadata": {},
   "outputs": [
    {
     "name": "stdout",
     "output_type": "stream",
     "text": [
      "5167\n",
      "6104\n",
      "Only in train 1405\n",
      "Only in test 468\n",
      "Common in both 4699\n"
     ]
    }
   ],
   "source": [
    "item_test=test.item_id.unique()\n",
    "item_train=train.item_id.unique()\n",
    "print len(item_test)\n",
    "print len(item_train)\n",
    "\n",
    "item_in_train=list(set(item_train)-set(item_test))\n",
    "print \"Only in train {}\".format(len(item_in_train))\n",
    "\n",
    "item_in_test=list(set(item_test)-set(item_train))\n",
    "print \"Only in test {}\".format(len(item_in_test))\n",
    "\n",
    "item_common=(list(set(item_test).intersection(item_train)))\n",
    "print \"Common in both {}\".format(len(list(set(item_test).intersection(item_train))))"
   ]
  },
  {
   "cell_type": "code",
   "execution_count": 118,
   "metadata": {
    "collapsed": true
   },
   "outputs": [],
   "source": [
    "x=(list(set(item_common).intersection(item_only_2)))"
   ]
  },
  {
   "cell_type": "code",
   "execution_count": 126,
   "metadata": {},
   "outputs": [
    {
     "data": {
      "text/plain": [
       "1.0    16918720\n",
       "2.0      100816\n",
       "Name: click, dtype: int64"
      ]
     },
     "execution_count": 126,
     "metadata": {},
     "output_type": "execute_result"
    }
   ],
   "source": [
    "train.click.value_counts()"
   ]
  },
  {
   "cell_type": "code",
   "execution_count": 127,
   "metadata": {},
   "outputs": [
    {
     "data": {
      "text/plain": [
       "1376"
      ]
     },
     "execution_count": 127,
     "metadata": {},
     "output_type": "execute_result"
    }
   ],
   "source": [
    "100816-99440"
   ]
  },
  {
   "cell_type": "code",
   "execution_count": 116,
   "metadata": {},
   "outputs": [
    {
     "data": {
      "text/plain": [
       "1.0    16573989\n",
       "2.0       99440\n",
       "Name: click, dtype: int64"
      ]
     },
     "execution_count": 116,
     "metadata": {},
     "output_type": "execute_result"
    }
   ],
   "source": [
    "train.click[train.item_id.isin(item_common)].value_counts()"
   ]
  },
  {
   "cell_type": "code",
   "execution_count": null,
   "metadata": {
    "collapsed": true
   },
   "outputs": [],
   "source": [
    "#Check status of these 4699 item ids"
   ]
  },
  {
   "cell_type": "code",
   "execution_count": 111,
   "metadata": {},
   "outputs": [
    {
     "data": {
      "text/plain": [
       "4699"
      ]
     },
     "execution_count": 111,
     "metadata": {},
     "output_type": "execute_result"
    }
   ],
   "source": [
    "len(set(test.item_id.unique()).intersection(train.item_id.unique()))"
   ]
  },
  {
   "cell_type": "code",
   "execution_count": 112,
   "metadata": {},
   "outputs": [
    {
     "data": {
      "text/plain": [
       "5167"
      ]
     },
     "execution_count": 112,
     "metadata": {},
     "output_type": "execute_result"
    }
   ],
   "source": [
    "len(test.item_id.unique())"
   ]
  },
  {
   "cell_type": "code",
   "execution_count": 113,
   "metadata": {},
   "outputs": [
    {
     "data": {
      "text/plain": [
       "0.9094251983742985"
      ]
     },
     "execution_count": 113,
     "metadata": {},
     "output_type": "execute_result"
    }
   ],
   "source": [
    "4699*1.0/5167"
   ]
  },
  {
   "cell_type": "code",
   "execution_count": 128,
   "metadata": {},
   "outputs": [
    {
     "data": {
      "text/html": [
       "<div>\n",
       "<style>\n",
       "    .dataframe thead tr:only-child th {\n",
       "        text-align: right;\n",
       "    }\n",
       "\n",
       "    .dataframe thead th {\n",
       "        text-align: left;\n",
       "    }\n",
       "\n",
       "    .dataframe tbody tr th {\n",
       "        vertical-align: top;\n",
       "    }\n",
       "</style>\n",
       "<table border=\"1\" class=\"dataframe\">\n",
       "  <thead>\n",
       "    <tr style=\"text-align: right;\">\n",
       "      <th></th>\n",
       "      <th>impression_id</th>\n",
       "      <th>geo</th>\n",
       "      <th>site_id</th>\n",
       "      <th>uuid</th>\n",
       "      <th>adunit_id</th>\n",
       "      <th>refrenceUrl</th>\n",
       "      <th>timestamp_impression</th>\n",
       "      <th>uvh</th>\n",
       "    </tr>\n",
       "  </thead>\n",
       "  <tbody>\n",
       "    <tr>\n",
       "      <th>0</th>\n",
       "      <td>f3b12400-7741-4fc2-8591-37c8e755f127-10uww</td>\n",
       "      <td>144.0</td>\n",
       "      <td>4</td>\n",
       "      <td>adff4c58-1326-4200-a376-01b08faee142-3rpk</td>\n",
       "      <td>210766</td>\n",
       "      <td>https%3A%2F%2Feconomictimes.indiatimes.com%2Fm...</td>\n",
       "      <td>2017-10-25T18:31:39.892+05:30</td>\n",
       "      <td>0-17232107,17231579,17232759,17237387,17255431</td>\n",
       "    </tr>\n",
       "    <tr>\n",
       "      <th>1</th>\n",
       "      <td>e4a226f3-c1d8-469d-91da-f61b18ee5e5b-10nql</td>\n",
       "      <td>145.0</td>\n",
       "      <td>4</td>\n",
       "      <td>e23b9fd9-0761-45cd-94a3-1440eda65183-10nql</td>\n",
       "      <td>210766</td>\n",
       "      <td>https%3A%2F%2Feconomictimes.indiatimes.com%2Fn...</td>\n",
       "      <td>2017-10-25T18:57:56.494+05:30</td>\n",
       "      <td>NaN</td>\n",
       "    </tr>\n",
       "    <tr>\n",
       "      <th>2</th>\n",
       "      <td>9083bb05-072e-4d5c-9072-ccb7069c4070-10wzw</td>\n",
       "      <td>144.0</td>\n",
       "      <td>432</td>\n",
       "      <td>777453b9-c1c9-4db5-af4e-8f28f1936245-10wgg</td>\n",
       "      <td>211156</td>\n",
       "      <td>https%3A%2F%2Fm.economictimes.com%2Fmarkets%2F...</td>\n",
       "      <td>2017-10-25T18:35:26.186+05:30</td>\n",
       "      <td>NaN</td>\n",
       "    </tr>\n",
       "    <tr>\n",
       "      <th>3</th>\n",
       "      <td>dd82e108-8360-4e6a-ad8a-1c879b117b18-10ocs</td>\n",
       "      <td>144.0</td>\n",
       "      <td>4</td>\n",
       "      <td>603522ed-2886-40c3-a57b-8a522cfc3d3c-10uww</td>\n",
       "      <td>130014</td>\n",
       "      <td>economictimes.indiatimes.com%2F</td>\n",
       "      <td>2017-10-25T18:34:19.793+05:30</td>\n",
       "      <td>0-17141460,17162436,17156120,17260598,17261454</td>\n",
       "    </tr>\n",
       "    <tr>\n",
       "      <th>4</th>\n",
       "      <td>1d858bff-db65-4d6d-bed4-af1d2e943829-10ntc</td>\n",
       "      <td>144.0</td>\n",
       "      <td>40</td>\n",
       "      <td>7fa9d303-2930-43da-935e-50542947add6-10o78</td>\n",
       "      <td>195676</td>\n",
       "      <td>https%3A%2F%2Fm.economictimes.com%2Fnews%2Fcom...</td>\n",
       "      <td>2017-10-25T18:02:43.399+05:30</td>\n",
       "      <td>0-17265399,17265319,17270611,17268606S1-17249871</td>\n",
       "    </tr>\n",
       "  </tbody>\n",
       "</table>\n",
       "</div>"
      ],
      "text/plain": [
       "                                impression_id    geo  site_id  \\\n",
       "0  f3b12400-7741-4fc2-8591-37c8e755f127-10uww  144.0        4   \n",
       "1  e4a226f3-c1d8-469d-91da-f61b18ee5e5b-10nql  145.0        4   \n",
       "2  9083bb05-072e-4d5c-9072-ccb7069c4070-10wzw  144.0      432   \n",
       "3  dd82e108-8360-4e6a-ad8a-1c879b117b18-10ocs  144.0        4   \n",
       "4  1d858bff-db65-4d6d-bed4-af1d2e943829-10ntc  144.0       40   \n",
       "\n",
       "                                         uuid  adunit_id  \\\n",
       "0   adff4c58-1326-4200-a376-01b08faee142-3rpk     210766   \n",
       "1  e23b9fd9-0761-45cd-94a3-1440eda65183-10nql     210766   \n",
       "2  777453b9-c1c9-4db5-af4e-8f28f1936245-10wgg     211156   \n",
       "3  603522ed-2886-40c3-a57b-8a522cfc3d3c-10uww     130014   \n",
       "4  7fa9d303-2930-43da-935e-50542947add6-10o78     195676   \n",
       "\n",
       "                                         refrenceUrl  \\\n",
       "0  https%3A%2F%2Feconomictimes.indiatimes.com%2Fm...   \n",
       "1  https%3A%2F%2Feconomictimes.indiatimes.com%2Fn...   \n",
       "2  https%3A%2F%2Fm.economictimes.com%2Fmarkets%2F...   \n",
       "3                    economictimes.indiatimes.com%2F   \n",
       "4  https%3A%2F%2Fm.economictimes.com%2Fnews%2Fcom...   \n",
       "\n",
       "            timestamp_impression  \\\n",
       "0  2017-10-25T18:31:39.892+05:30   \n",
       "1  2017-10-25T18:57:56.494+05:30   \n",
       "2  2017-10-25T18:35:26.186+05:30   \n",
       "3  2017-10-25T18:34:19.793+05:30   \n",
       "4  2017-10-25T18:02:43.399+05:30   \n",
       "\n",
       "                                                uvh  \n",
       "0    0-17232107,17231579,17232759,17237387,17255431  \n",
       "1                                               NaN  \n",
       "2                                               NaN  \n",
       "3    0-17141460,17162436,17156120,17260598,17261454  \n",
       "4  0-17265399,17265319,17270611,17268606S1-17249871  "
      ]
     },
     "execution_count": 128,
     "metadata": {},
     "output_type": "execute_result"
    }
   ],
   "source": [
    "impression.head()"
   ]
  },
  {
   "cell_type": "code",
   "execution_count": 34,
   "metadata": {},
   "outputs": [
    {
     "data": {
      "text/plain": [
       "impression_id    3966\n",
       "item_id           957\n",
       "click               1\n",
       "dtype: int64"
      ]
     },
     "execution_count": 34,
     "metadata": {},
     "output_type": "execute_result"
    }
   ],
   "source": [
    "train_chk=train[train.impression_id.isin(imp_c_specific)]\n",
    "train_chk.nunique()"
   ]
  },
  {
   "cell_type": "code",
   "execution_count": 35,
   "metadata": {
    "collapsed": true
   },
   "outputs": [],
   "source": [
    "test_sub=test[test.impression_id.isin(imp_c_specific)]"
   ]
  },
  {
   "cell_type": "code",
   "execution_count": 36,
   "metadata": {},
   "outputs": [
    {
     "data": {
      "text/plain": [
       "(687, 2)"
      ]
     },
     "execution_count": 36,
     "metadata": {},
     "output_type": "execute_result"
    }
   ],
   "source": [
    "test_sub.shape"
   ]
  },
  {
   "cell_type": "code",
   "execution_count": 121,
   "metadata": {},
   "outputs": [
    {
     "name": "stderr",
     "output_type": "stream",
     "text": [
      "/Users/sowmiyanmorri/anaconda/lib/python2.7/site-packages/ipykernel_launcher.py:1: SettingWithCopyWarning: \n",
      "A value is trying to be set on a copy of a slice from a DataFrame\n",
      "\n",
      "See the caveats in the documentation: http://pandas.pydata.org/pandas-docs/stable/indexing.html#indexing-view-versus-copy\n",
      "  \"\"\"Entry point for launching an IPython kernel.\n"
     ]
    }
   ],
   "source": [
    "submission.click[submission.impression_id.isin(imp_c_specific)]=2"
   ]
  },
  {
   "cell_type": "code",
   "execution_count": 123,
   "metadata": {},
   "outputs": [
    {
     "name": "stderr",
     "output_type": "stream",
     "text": [
      "/Users/sowmiyanmorri/anaconda/lib/python2.7/site-packages/ipykernel_launcher.py:1: SettingWithCopyWarning: \n",
      "A value is trying to be set on a copy of a slice from a DataFrame\n",
      "\n",
      "See the caveats in the documentation: http://pandas.pydata.org/pandas-docs/stable/indexing.html#indexing-view-versus-copy\n",
      "  \"\"\"Entry point for launching an IPython kernel.\n"
     ]
    }
   ],
   "source": [
    "submission.click[submission.item_id.isin(x)]=2\n",
    "#=1"
   ]
  },
  {
   "cell_type": "code",
   "execution_count": 124,
   "metadata": {},
   "outputs": [
    {
     "data": {
      "text/plain": [
       "1    188110\n",
       "2       688\n",
       "Name: click, dtype: int64"
      ]
     },
     "execution_count": 124,
     "metadata": {},
     "output_type": "execute_result"
    }
   ],
   "source": [
    "submission.click.value_counts()"
   ]
  },
  {
   "cell_type": "code",
   "execution_count": 81,
   "metadata": {},
   "outputs": [
    {
     "data": {
      "text/plain": [
       "(188798, 3)"
      ]
     },
     "execution_count": 81,
     "metadata": {},
     "output_type": "execute_result"
    }
   ],
   "source": [
    "submission.shape"
   ]
  },
  {
   "cell_type": "code",
   "execution_count": 125,
   "metadata": {
    "collapsed": true
   },
   "outputs": [],
   "source": [
    "submission.to_csv(\"sub_3.csv\",index=False)"
   ]
  },
  {
   "cell_type": "code",
   "execution_count": 80,
   "metadata": {},
   "outputs": [
    {
     "data": {
      "text/plain": [
       "0.5251641772895308"
      ]
     },
     "execution_count": 80,
     "metadata": {},
     "output_type": "execute_result"
    }
   ],
   "source": [
    "np.sqrt((52070.0)/188798)"
   ]
  },
  {
   "cell_type": "code",
   "execution_count": null,
   "metadata": {
    "collapsed": true
   },
   "outputs": [],
   "source": []
  },
  {
   "cell_type": "code",
   "execution_count": 139,
   "metadata": {
    "collapsed": true
   },
   "outputs": [],
   "source": [
    "item_attributes=pd.read_csv(\"Clean_ItemAttributes.csv\")"
   ]
  },
  {
   "cell_type": "code",
   "execution_count": 140,
   "metadata": {},
   "outputs": [
    {
     "data": {
      "text/plain": [
       "item_id               2108\n",
       "title                 1834\n",
       "description            891\n",
       "timestamp_creation    1439\n",
       "dtype: int64"
      ]
     },
     "execution_count": 140,
     "metadata": {},
     "output_type": "execute_result"
    }
   ],
   "source": [
    "item_attributes.nunique()"
   ]
  },
  {
   "cell_type": "code",
   "execution_count": 141,
   "metadata": {
    "collapsed": true
   },
   "outputs": [],
   "source": [
    "item_att=list(set(item_attributes.item_id))"
   ]
  },
  {
   "cell_type": "code",
   "execution_count": 142,
   "metadata": {
    "collapsed": true
   },
   "outputs": [],
   "source": [
    "item_train=list(set(train.item_id))\n",
    "item_test=list(set(test.item_id))"
   ]
  },
  {
   "cell_type": "code",
   "execution_count": 143,
   "metadata": {},
   "outputs": [
    {
     "data": {
      "text/plain": [
       "429"
      ]
     },
     "execution_count": 143,
     "metadata": {},
     "output_type": "execute_result"
    }
   ],
   "source": [
    "len(list(set(item_att).intersection(set(item_train))))"
   ]
  },
  {
   "cell_type": "code",
   "execution_count": 144,
   "metadata": {},
   "outputs": [
    {
     "data": {
      "text/plain": [
       "398"
      ]
     },
     "execution_count": 144,
     "metadata": {},
     "output_type": "execute_result"
    }
   ],
   "source": [
    "len(list(set(item_att).intersection(set(item_test))))"
   ]
  },
  {
   "cell_type": "code",
   "execution_count": 146,
   "metadata": {},
   "outputs": [
    {
     "name": "stdout",
     "output_type": "stream",
     "text": [
      "3951\n",
      "6092\n",
      "6103\n",
      "11\n",
      "2152\n"
     ]
    }
   ],
   "source": [
    "item_train_2=train.item_id[train.click==2]\n",
    "item_train_1=train.item_id[train.click==1]\n",
    "print len(set(item_train_2))\n",
    "print len(set(item_train_1))\n",
    "print train.item_id.nunique()\n",
    "\n",
    "item_train_only_2=list(set(item_train_2)-set(item_train_1))\n",
    "print len(item_only_2)\n",
    "\n",
    "item_train_only_1=list(set(item_train_1)-set(item_train_2))\n",
    "print len(item_only_1)"
   ]
  },
  {
   "cell_type": "code",
   "execution_count": null,
   "metadata": {
    "collapsed": true
   },
   "outputs": [],
   "source": []
  },
  {
   "cell_type": "code",
   "execution_count": 147,
   "metadata": {},
   "outputs": [
    {
     "data": {
      "text/plain": [
       "4"
      ]
     },
     "execution_count": 147,
     "metadata": {},
     "output_type": "execute_result"
    }
   ],
   "source": [
    "len(list(set(item_att).intersection(set(item_train_only_2))))"
   ]
  },
  {
   "cell_type": "code",
   "execution_count": null,
   "metadata": {
    "collapsed": true
   },
   "outputs": [],
   "source": []
  }
 ],
 "metadata": {
  "kernelspec": {
   "display_name": "Python 2",
   "language": "python",
   "name": "python2"
  },
  "language_info": {
   "codemirror_mode": {
    "name": "ipython",
    "version": 2
   },
   "file_extension": ".py",
   "mimetype": "text/x-python",
   "name": "python",
   "nbconvert_exporter": "python",
   "pygments_lexer": "ipython2",
   "version": "2.7.13"
  }
 },
 "nbformat": 4,
 "nbformat_minor": 2
}
