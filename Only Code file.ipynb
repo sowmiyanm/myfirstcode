{
 "cells": [
  {
   "cell_type": "code",
   "execution_count": 1,
   "metadata": {
    "collapsed": true
   },
   "outputs": [],
   "source": [
    "import pandas as pd\n",
    "import numpy as np\n",
    "import re\n",
    "import gc # We're gonna be clearing memory a lot\n",
    "import matplotlib.pyplot as plt\n",
    "import seaborn as sns\n",
    "%matplotlib inline"
   ]
  },
  {
   "cell_type": "code",
   "execution_count": 2,
   "metadata": {
    "collapsed": true
   },
   "outputs": [],
   "source": [
    "train=pd.read_csv(\"Complete_train.csv\")\n",
    "test=pd.read_csv(\"test-data.csv\")\n",
    "impression=pd.read_csv(\"Complete_Impression.csv\")\n",
    "item_att=pd.read_csv(\"Clean_Item_Attributes.csv\")\n",
    "item_category_map=pd.read_csv(\"Complete_Item_Category.csv\")\n",
    "\n",
    "# 1    0.993864\n",
    "# 2    0.006136"
   ]
  },
  {
   "cell_type": "code",
   "execution_count": 3,
   "metadata": {},
   "outputs": [
    {
     "name": "stdout",
     "output_type": "stream",
     "text": [
      "train  Index([u'impression_id', u'item_id', u'click'], dtype='object')\n",
      "test  Index([u'impression_id', u'item_id'], dtype='object')\n",
      "Impression  Index([u'impression_id', u'geo', u'site_id', u'uuid', u'adunit_id',\n",
      "       u'refrenceUrl', u'timestamp_impression', u'uvh'],\n",
      "      dtype='object')\n",
      "item Att   Index([u'x', u'pipe_count', u'timestamp', u'item_id'], dtype='object')\n",
      "Item Cat    Index([u'item_id', u'Keywords', u'Keywords_Score', u'Concepts',\n",
      "       u'Concepts_Score', u'Keyword_count', u'Concept_count',\n",
      "       u'Keyword_Median', u'Concept_Median'],\n",
      "      dtype='object')\n"
     ]
    }
   ],
   "source": [
    "print \"train \",train.columns\n",
    "print \"test \",test.columns\n",
    "print \"Impression \", impression.columns\n",
    "\n",
    "print  \"item Att  \"  , item_att.columns\n",
    "print \"Item Cat   \", item_category_map.columns"
   ]
  },
  {
   "cell_type": "code",
   "execution_count": 83,
   "metadata": {},
   "outputs": [],
   "source": [
    "item_category_map.drop_duplicates(inplace=True)"
   ]
  },
  {
   "cell_type": "code",
   "execution_count": 81,
   "metadata": {},
   "outputs": [
    {
     "data": {
      "text/plain": [
       "item_id           13951\n",
       "Keywords           8745\n",
       "Keywords_Score    10250\n",
       "Concepts           6027\n",
       "Concepts_Score    10043\n",
       "Keyword_count        44\n",
       "Concept_count         8\n",
       "Keyword_Median    10073\n",
       "Concept_Median     9847\n",
       "dtype: int64"
      ]
     },
     "execution_count": 81,
     "metadata": {},
     "output_type": "execute_result"
    }
   ],
   "source": [
    "item_category_map.nunique()"
   ]
  },
  {
   "cell_type": "code",
   "execution_count": 85,
   "metadata": {
    "collapsed": true
   },
   "outputs": [],
   "source": [
    "train_m=pd.merge(train,item_category_map,how=\"left\", left_on='item_id',right_on='item_id')\n",
    "test_m=pd.merge(test,item_category_map,how=\"left\", left_on='item_id',right_on='item_id')"
   ]
  },
  {
   "cell_type": "code",
   "execution_count": 86,
   "metadata": {},
   "outputs": [
    {
     "data": {
      "text/plain": [
       "impression_id           0\n",
       "item_id                 1\n",
       "click                   1\n",
       "Keywords          6821522\n",
       "Keywords_Score    6811523\n",
       "Concepts          6832043\n",
       "Concepts_Score    6811523\n",
       "Keyword_count     6811523\n",
       "Concept_count     6811523\n",
       "Keyword_Median    6811523\n",
       "Concept_Median    6811523\n",
       "dtype: int64"
      ]
     },
     "execution_count": 86,
     "metadata": {},
     "output_type": "execute_result"
    }
   ],
   "source": [
    "train_m.isnull().sum()"
   ]
  },
  {
   "cell_type": "code",
   "execution_count": 87,
   "metadata": {},
   "outputs": [],
   "source": [
    "#Since almost 68K are missing...remove these rows...it will reduce your training set as well\n",
    "train_m=train_m[train_m.Keywords_Score.notnull()]"
   ]
  },
  {
   "cell_type": "code",
   "execution_count": 88,
   "metadata": {},
   "outputs": [
    {
     "data": {
      "text/plain": [
       "impression_id         0\n",
       "item_id               0\n",
       "click                 0\n",
       "Keywords           9999\n",
       "Keywords_Score        0\n",
       "Concepts          20520\n",
       "Concepts_Score        0\n",
       "Keyword_count         0\n",
       "Concept_count         0\n",
       "Keyword_Median        0\n",
       "Concept_Median        0\n",
       "dtype: int64"
      ]
     },
     "execution_count": 88,
     "metadata": {},
     "output_type": "execute_result"
    }
   ],
   "source": [
    "train_m.isnull().sum()"
   ]
  },
  {
   "cell_type": "code",
   "execution_count": 89,
   "metadata": {},
   "outputs": [
    {
     "data": {
      "text/plain": [
       "impression_id         0\n",
       "item_id               0\n",
       "Keywords          51543\n",
       "Keywords_Score    51445\n",
       "Concepts          51597\n",
       "Concepts_Score    51445\n",
       "Keyword_count     51445\n",
       "Concept_count     51445\n",
       "Keyword_Median    51445\n",
       "Concept_Median    51445\n",
       "dtype: int64"
      ]
     },
     "execution_count": 89,
     "metadata": {},
     "output_type": "execute_result"
    }
   ],
   "source": [
    "test_m.isnull().sum()"
   ]
  },
  {
   "cell_type": "code",
   "execution_count": 107,
   "metadata": {
    "collapsed": true
   },
   "outputs": [],
   "source": [
    "impression_sub=impression[impression.impression_id.isin(train_m.impression_id)]"
   ]
  },
  {
   "cell_type": "code",
   "execution_count": 92,
   "metadata": {},
   "outputs": [
    {
     "name": "stdout",
     "output_type": "stream",
     "text": [
      "(2934474, 8)\n",
      "(31613, 4)\n"
     ]
    }
   ],
   "source": [
    "print impression_sub.shape\n",
    "print item_att.shape"
   ]
  },
  {
   "cell_type": "code",
   "execution_count": 31,
   "metadata": {},
   "outputs": [
    {
     "data": {
      "text/html": [
       "<div>\n",
       "<style scoped>\n",
       "    .dataframe tbody tr th:only-of-type {\n",
       "        vertical-align: middle;\n",
       "    }\n",
       "\n",
       "    .dataframe tbody tr th {\n",
       "        vertical-align: top;\n",
       "    }\n",
       "\n",
       "    .dataframe thead th {\n",
       "        text-align: right;\n",
       "    }\n",
       "</style>\n",
       "<table border=\"1\" class=\"dataframe\">\n",
       "  <thead>\n",
       "    <tr style=\"text-align: right;\">\n",
       "      <th></th>\n",
       "      <th>impression_id</th>\n",
       "      <th>geo</th>\n",
       "      <th>site_id</th>\n",
       "      <th>uuid</th>\n",
       "      <th>adunit_id</th>\n",
       "      <th>refrenceUrl</th>\n",
       "      <th>timestamp_impression</th>\n",
       "      <th>uvh</th>\n",
       "    </tr>\n",
       "  </thead>\n",
       "  <tbody>\n",
       "    <tr>\n",
       "      <th>80024</th>\n",
       "      <td>7e3f4b83-e609-4233-ac6b-1dccf5b2a4f4-10nnt</td>\n",
       "      <td>144.0</td>\n",
       "      <td>432</td>\n",
       "      <td>6683d81a-3edf-497e-bf49-ae09d9ce0b62-10onw</td>\n",
       "      <td>211155</td>\n",
       "      <td>https%3A%2F%2Fm.economictimes.com%2Fmarkets%2F...</td>\n",
       "      <td>2017-10-25T18:59:30.438+05:30</td>\n",
       "      <td>NaN</td>\n",
       "    </tr>\n",
       "    <tr>\n",
       "      <th>169741</th>\n",
       "      <td>c8315c97-3720-4aca-8856-2a1f3d146524-3rms</td>\n",
       "      <td>144.0</td>\n",
       "      <td>74</td>\n",
       "      <td>6f338293-cff2-42da-8f8e-8407d370df67-10o78</td>\n",
       "      <td>195667</td>\n",
       "      <td>https%3A%2F%2Feconomictimes.indiatimes.com%2Fm...</td>\n",
       "      <td>2017-10-25T19:07:06.367+05:30</td>\n",
       "      <td>NaN</td>\n",
       "    </tr>\n",
       "    <tr>\n",
       "      <th>255094</th>\n",
       "      <td>d31afb39-dc45-4753-ab30-4d0d5fe61f51-10oa1</td>\n",
       "      <td>144.0</td>\n",
       "      <td>40</td>\n",
       "      <td>c7252cfa-600e-4c45-b8b5-1a67a8733b3d-3rv4</td>\n",
       "      <td>195676</td>\n",
       "      <td>m.economictimes.com%2Fnews%2Fpolitics-and-nati...</td>\n",
       "      <td>2017-10-25T21:21:33.408+05:30</td>\n",
       "      <td>NaN</td>\n",
       "    </tr>\n",
       "    <tr>\n",
       "      <th>308492</th>\n",
       "      <td>ff18fc9b-6fb2-4a69-810c-cb0d33451f59-10ow8</td>\n",
       "      <td>144.0</td>\n",
       "      <td>74</td>\n",
       "      <td>075259ea-b9c3-48dc-8fdb-06c4c48edf6f-3rh8</td>\n",
       "      <td>195667</td>\n",
       "      <td>http%3A%2F%2Feconomictimes.indiatimes.com%2Fma...</td>\n",
       "      <td>2017-10-25T21:34:29.999+05:30</td>\n",
       "      <td>NaN</td>\n",
       "    </tr>\n",
       "    <tr>\n",
       "      <th>353625</th>\n",
       "      <td>92be7349-4cdd-4cbd-abd7-4d11250cba91-10oa0</td>\n",
       "      <td>144.0</td>\n",
       "      <td>40</td>\n",
       "      <td>1872ef98-67e7-458b-a28e-4414e94f2c7f-10wgg</td>\n",
       "      <td>195676</td>\n",
       "      <td>m.economictimes.com%2Fnews%2Fevening-briefing%...</td>\n",
       "      <td>2017-10-25T08:49:51.939+05:30</td>\n",
       "      <td>NaN</td>\n",
       "    </tr>\n",
       "  </tbody>\n",
       "</table>\n",
       "</div>"
      ],
      "text/plain": [
       "                                     impression_id    geo  site_id  \\\n",
       "80024   7e3f4b83-e609-4233-ac6b-1dccf5b2a4f4-10nnt  144.0      432   \n",
       "169741   c8315c97-3720-4aca-8856-2a1f3d146524-3rms  144.0       74   \n",
       "255094  d31afb39-dc45-4753-ab30-4d0d5fe61f51-10oa1  144.0       40   \n",
       "308492  ff18fc9b-6fb2-4a69-810c-cb0d33451f59-10ow8  144.0       74   \n",
       "353625  92be7349-4cdd-4cbd-abd7-4d11250cba91-10oa0  144.0       40   \n",
       "\n",
       "                                              uuid  adunit_id  \\\n",
       "80024   6683d81a-3edf-497e-bf49-ae09d9ce0b62-10onw     211155   \n",
       "169741  6f338293-cff2-42da-8f8e-8407d370df67-10o78     195667   \n",
       "255094   c7252cfa-600e-4c45-b8b5-1a67a8733b3d-3rv4     195676   \n",
       "308492   075259ea-b9c3-48dc-8fdb-06c4c48edf6f-3rh8     195667   \n",
       "353625  1872ef98-67e7-458b-a28e-4414e94f2c7f-10wgg     195676   \n",
       "\n",
       "                                              refrenceUrl  \\\n",
       "80024   https%3A%2F%2Fm.economictimes.com%2Fmarkets%2F...   \n",
       "169741  https%3A%2F%2Feconomictimes.indiatimes.com%2Fm...   \n",
       "255094  m.economictimes.com%2Fnews%2Fpolitics-and-nati...   \n",
       "308492  http%3A%2F%2Feconomictimes.indiatimes.com%2Fma...   \n",
       "353625  m.economictimes.com%2Fnews%2Fevening-briefing%...   \n",
       "\n",
       "                 timestamp_impression  uvh  \n",
       "80024   2017-10-25T18:59:30.438+05:30  NaN  \n",
       "169741  2017-10-25T19:07:06.367+05:30  NaN  \n",
       "255094  2017-10-25T21:21:33.408+05:30  NaN  \n",
       "308492  2017-10-25T21:34:29.999+05:30  NaN  \n",
       "353625  2017-10-25T08:49:51.939+05:30  NaN  "
      ]
     },
     "execution_count": 31,
     "metadata": {},
     "output_type": "execute_result"
    }
   ],
   "source": [
    "impression_sub.head()"
   ]
  },
  {
   "cell_type": "code",
   "execution_count": 108,
   "metadata": {},
   "outputs": [
    {
     "name": "stderr",
     "output_type": "stream",
     "text": [
      "/Users/sowmiyanmorri/anaconda/lib/python2.7/site-packages/ipykernel_launcher.py:1: SettingWithCopyWarning: \n",
      "A value is trying to be set on a copy of a slice from a DataFrame.\n",
      "Try using .loc[row_indexer,col_indexer] = value instead\n",
      "\n",
      "See the caveats in the documentation: http://pandas.pydata.org/pandas-docs/stable/indexing.html#indexing-view-versus-copy\n",
      "  \"\"\"Entry point for launching an IPython kernel.\n",
      "/Users/sowmiyanmorri/anaconda/lib/python2.7/site-packages/ipykernel_launcher.py:3: SettingWithCopyWarning: \n",
      "A value is trying to be set on a copy of a slice from a DataFrame.\n",
      "Try using .loc[row_indexer,col_indexer] = value instead\n",
      "\n",
      "See the caveats in the documentation: http://pandas.pydata.org/pandas-docs/stable/indexing.html#indexing-view-versus-copy\n",
      "  This is separate from the ipykernel package so we can avoid doing imports until\n"
     ]
    }
   ],
   "source": [
    "impression_sub['Find']=\"\"\n",
    "import re\n",
    "impression_sub[\"Find\"]=impression_sub.refrenceUrl.apply(lambda x: (re.search(r'(?:^.*)[.]+([\\w]+)[.]com',str(x))).group(1) if (re.search(r'(?:^.*)[.]+([\\w]+)[.]com',str(x))) is not None else \"Others\") "
   ]
  },
  {
   "cell_type": "code",
   "execution_count": 109,
   "metadata": {},
   "outputs": [
    {
     "name": "stdout",
     "output_type": "stream",
     "text": [
      "(2934474, 9)\n"
     ]
    }
   ],
   "source": [
    "print impression_sub.shape"
   ]
  },
  {
   "cell_type": "code",
   "execution_count": 110,
   "metadata": {},
   "outputs": [
    {
     "name": "stdout",
     "output_type": "stream",
     "text": [
      "(2934468, 9)\n"
     ]
    },
    {
     "name": "stderr",
     "output_type": "stream",
     "text": [
      "/Users/sowmiyanmorri/anaconda/lib/python2.7/site-packages/ipykernel_launcher.py:1: SettingWithCopyWarning: \n",
      "A value is trying to be set on a copy of a slice from a DataFrame\n",
      "\n",
      "See the caveats in the documentation: http://pandas.pydata.org/pandas-docs/stable/indexing.html#indexing-view-versus-copy\n",
      "  \"\"\"Entry point for launching an IPython kernel.\n"
     ]
    }
   ],
   "source": [
    "impression_sub.drop_duplicates(inplace=True)\n",
    "print impression_sub.shape"
   ]
  },
  {
   "cell_type": "code",
   "execution_count": 129,
   "metadata": {},
   "outputs": [
    {
     "name": "stderr",
     "output_type": "stream",
     "text": [
      "/Users/sowmiyanmorri/anaconda/lib/python2.7/site-packages/ipykernel_launcher.py:1: SettingWithCopyWarning: \n",
      "A value is trying to be set on a copy of a slice from a DataFrame\n",
      "\n",
      "See the caveats in the documentation: http://pandas.pydata.org/pandas-docs/stable/indexing.html#indexing-view-versus-copy\n",
      "  \"\"\"Entry point for launching an IPython kernel.\n"
     ]
    }
   ],
   "source": [
    "impression_sub.drop_duplicates(subset='impression_id', keep=\"last\",inplace=True)"
   ]
  },
  {
   "cell_type": "code",
   "execution_count": 130,
   "metadata": {},
   "outputs": [
    {
     "data": {
      "text/plain": [
       "(2826402, 9)"
      ]
     },
     "execution_count": 130,
     "metadata": {},
     "output_type": "execute_result"
    }
   ],
   "source": [
    "impression_sub.shape"
   ]
  },
  {
   "cell_type": "code",
   "execution_count": 131,
   "metadata": {
    "collapsed": true
   },
   "outputs": [],
   "source": [
    "train_new=pd.merge(train_m,impression_sub,how=\"left\", left_on='impression_id',right_on='impression_id')"
   ]
  },
  {
   "cell_type": "code",
   "execution_count": 135,
   "metadata": {},
   "outputs": [
    {
     "data": {
      "text/plain": [
       "impression_id           0.000000\n",
       "item_id                 0.000000\n",
       "click                   0.000000\n",
       "Keywords                0.000588\n",
       "Keywords_Score          0.000000\n",
       "Concepts                0.001206\n",
       "Concepts_Score          0.000000\n",
       "Keyword_count           0.000000\n",
       "Concept_count           0.000000\n",
       "Keyword_Median          0.000000\n",
       "Concept_Median          0.000000\n",
       "geo                     0.163231\n",
       "site_id                 0.163231\n",
       "uuid                    0.163231\n",
       "adunit_id               0.163231\n",
       "refrenceUrl             0.163235\n",
       "timestamp_impression    0.163231\n",
       "uvh                     0.312174\n",
       "Find                    0.163231\n",
       "dtype: float64"
      ]
     },
     "execution_count": 135,
     "metadata": {},
     "output_type": "execute_result"
    }
   ],
   "source": [
    "train_new.isnull().sum()/train.shape[0]"
   ]
  },
  {
   "cell_type": "code",
   "execution_count": 137,
   "metadata": {},
   "outputs": [
    {
     "data": {
      "text/html": [
       "<div>\n",
       "<style scoped>\n",
       "    .dataframe tbody tr th:only-of-type {\n",
       "        vertical-align: middle;\n",
       "    }\n",
       "\n",
       "    .dataframe tbody tr th {\n",
       "        vertical-align: top;\n",
       "    }\n",
       "\n",
       "    .dataframe thead th {\n",
       "        text-align: right;\n",
       "    }\n",
       "</style>\n",
       "<table border=\"1\" class=\"dataframe\">\n",
       "  <thead>\n",
       "    <tr style=\"text-align: right;\">\n",
       "      <th>click</th>\n",
       "      <th>1.0</th>\n",
       "      <th>2.0</th>\n",
       "    </tr>\n",
       "    <tr>\n",
       "      <th>Find</th>\n",
       "      <th></th>\n",
       "      <th></th>\n",
       "    </tr>\n",
       "  </thead>\n",
       "  <tbody>\n",
       "    <tr>\n",
       "      <th>Others</th>\n",
       "      <td>1788</td>\n",
       "      <td>33</td>\n",
       "    </tr>\n",
       "    <tr>\n",
       "      <th>appspot</th>\n",
       "      <td>2</td>\n",
       "      <td>0</td>\n",
       "    </tr>\n",
       "    <tr>\n",
       "      <th>economictimes</th>\n",
       "      <td>2249492</td>\n",
       "      <td>29711</td>\n",
       "    </tr>\n",
       "    <tr>\n",
       "      <th>googleusercontent</th>\n",
       "      <td>28</td>\n",
       "      <td>0</td>\n",
       "    </tr>\n",
       "    <tr>\n",
       "      <th>indiatimes</th>\n",
       "      <td>5123973</td>\n",
       "      <td>24851</td>\n",
       "    </tr>\n",
       "    <tr>\n",
       "      <th>toiblogs</th>\n",
       "      <td>13</td>\n",
       "      <td>0</td>\n",
       "    </tr>\n",
       "  </tbody>\n",
       "</table>\n",
       "</div>"
      ],
      "text/plain": [
       "click                  1.0    2.0\n",
       "Find                             \n",
       "Others                1788     33\n",
       "appspot                  2      0\n",
       "economictimes      2249492  29711\n",
       "googleusercontent       28      0\n",
       "indiatimes         5123973  24851\n",
       "toiblogs                13      0"
      ]
     },
     "execution_count": 137,
     "metadata": {},
     "output_type": "execute_result"
    }
   ],
   "source": [
    "pd.crosstab(train_new.Find, train_new.click).apply(lambda r: r, axis=1)"
   ]
  },
  {
   "cell_type": "code",
   "execution_count": 138,
   "metadata": {
    "collapsed": true
   },
   "outputs": [],
   "source": [
    "train_new.Find.loc[train_new.Find.isnull()]=\"economictimes\""
   ]
  },
  {
   "cell_type": "code",
   "execution_count": 139,
   "metadata": {
    "collapsed": true
   },
   "outputs": [],
   "source": [
    "test_new=pd.merge(test_m,impression_sub,how=\"left\", on='impression_id')"
   ]
  },
  {
   "cell_type": "code",
   "execution_count": 141,
   "metadata": {},
   "outputs": [
    {
     "data": {
      "text/plain": [
       "impression_id           0.000000\n",
       "item_id                 0.000000\n",
       "Keywords                0.273006\n",
       "Keywords_Score          0.272487\n",
       "Concepts                0.273292\n",
       "Concepts_Score          0.272487\n",
       "Keyword_count           0.272487\n",
       "Concept_count           0.272487\n",
       "Keyword_Median          0.272487\n",
       "Concept_Median          0.272487\n",
       "geo                     0.886757\n",
       "site_id                 0.886757\n",
       "uuid                    0.886757\n",
       "adunit_id               0.886757\n",
       "refrenceUrl             0.886757\n",
       "timestamp_impression    0.886757\n",
       "uvh                     0.976811\n",
       "Find                    0.886757\n",
       "dtype: float64"
      ]
     },
     "execution_count": 141,
     "metadata": {},
     "output_type": "execute_result"
    }
   ],
   "source": [
    "test_new.isnull().sum()/test_new.shape[0]"
   ]
  },
  {
   "cell_type": "code",
   "execution_count": 142,
   "metadata": {
    "collapsed": true
   },
   "outputs": [],
   "source": [
    "test_new.Find.loc[test_new.Find.isnull()]=\"economictimes\""
   ]
  },
  {
   "cell_type": "code",
   "execution_count": 143,
   "metadata": {},
   "outputs": [
    {
     "name": "stdout",
     "output_type": "stream",
     "text": [
      "(188798, 18)\n"
     ]
    }
   ],
   "source": [
    "print test_new.shape"
   ]
  },
  {
   "cell_type": "markdown",
   "metadata": {},
   "source": [
    "## Modify from here"
   ]
  },
  {
   "cell_type": "code",
   "execution_count": 144,
   "metadata": {
    "collapsed": true
   },
   "outputs": [],
   "source": [
    "train_model=train_new[['impression_id','item_id','Keyword_count','Concept_count','Keyword_Median','Concept_Median','Find','click']]\n",
    "test_model=test_new[['impression_id','item_id','Keyword_count','Concept_count','Keyword_Median','Concept_Median','Find']]"
   ]
  },
  {
   "cell_type": "code",
   "execution_count": 145,
   "metadata": {},
   "outputs": [
    {
     "data": {
      "text/plain": [
       "impression_id      object\n",
       "item_id            object\n",
       "Keyword_count     float64\n",
       "Concept_count     float64\n",
       "Keyword_Median    float64\n",
       "Concept_Median    float64\n",
       "Find               object\n",
       "click             float64\n",
       "dtype: object"
      ]
     },
     "execution_count": 145,
     "metadata": {},
     "output_type": "execute_result"
    }
   ],
   "source": [
    "train_model.dtypes"
   ]
  },
  {
   "cell_type": "code",
   "execution_count": 146,
   "metadata": {},
   "outputs": [
    {
     "data": {
      "text/plain": [
       "indiatimes           5148824\n",
       "economictimes        5057326\n",
       "Others                  1821\n",
       "googleusercontent         28\n",
       "toiblogs                  13\n",
       "appspot                    2\n",
       "Name: Find, dtype: int64"
      ]
     },
     "execution_count": 146,
     "metadata": {},
     "output_type": "execute_result"
    }
   ],
   "source": [
    "train_model.Find.value_counts()"
   ]
  },
  {
   "cell_type": "code",
   "execution_count": 147,
   "metadata": {},
   "outputs": [
    {
     "name": "stdout",
     "output_type": "stream",
     "text": [
      "Find\n"
     ]
    },
    {
     "name": "stderr",
     "output_type": "stream",
     "text": [
      "/Users/sowmiyanmorri/anaconda/lib/python2.7/site-packages/ipykernel_launcher.py:7: SettingWithCopyWarning: \n",
      "A value is trying to be set on a copy of a slice from a DataFrame.\n",
      "Try using .loc[row_indexer,col_indexer] = value instead\n",
      "\n",
      "See the caveats in the documentation: http://pandas.pydata.org/pandas-docs/stable/indexing.html#indexing-view-versus-copy\n",
      "  import sys\n",
      "/Users/sowmiyanmorri/anaconda/lib/python2.7/site-packages/ipykernel_launcher.py:8: SettingWithCopyWarning: \n",
      "A value is trying to be set on a copy of a slice from a DataFrame.\n",
      "Try using .loc[row_indexer,col_indexer] = value instead\n",
      "\n",
      "See the caveats in the documentation: http://pandas.pydata.org/pandas-docs/stable/indexing.html#indexing-view-versus-copy\n",
      "  \n"
     ]
    }
   ],
   "source": [
    "col=['Find']\n",
    "from sklearn import model_selection, preprocessing\n",
    "for f in col:\n",
    "    print(f)\n",
    "    lbl = preprocessing.LabelEncoder()\n",
    "    lbl.fit(list(train_model[f].values.astype('str')) + list(test_model[f].values.astype('str')))\n",
    "    train_model[f] = lbl.transform(list(train_model[f].values.astype('str')))\n",
    "    test_model[f] = lbl.transform(list(test_model[f].values.astype('str')))"
   ]
  },
  {
   "cell_type": "code",
   "execution_count": 148,
   "metadata": {},
   "outputs": [
    {
     "data": {
      "text/plain": [
       "impression_id      object\n",
       "item_id            object\n",
       "Keyword_count     float64\n",
       "Concept_count     float64\n",
       "Keyword_Median    float64\n",
       "Concept_Median    float64\n",
       "Find                int64\n",
       "click             float64\n",
       "dtype: object"
      ]
     },
     "execution_count": 148,
     "metadata": {},
     "output_type": "execute_result"
    }
   ],
   "source": [
    "train_model.dtypes"
   ]
  },
  {
   "cell_type": "code",
   "execution_count": 150,
   "metadata": {},
   "outputs": [
    {
     "data": {
      "text/plain": [
       "impression_id         0\n",
       "item_id               0\n",
       "Keyword_count     51445\n",
       "Concept_count     51445\n",
       "Keyword_Median    51445\n",
       "Concept_Median    51445\n",
       "Find                  0\n",
       "dtype: int64"
      ]
     },
     "execution_count": 150,
     "metadata": {},
     "output_type": "execute_result"
    }
   ],
   "source": [
    "test_model.isnull().sum()"
   ]
  },
  {
   "cell_type": "code",
   "execution_count": 151,
   "metadata": {},
   "outputs": [
    {
     "data": {
      "text/html": [
       "<div>\n",
       "<style scoped>\n",
       "    .dataframe tbody tr th:only-of-type {\n",
       "        vertical-align: middle;\n",
       "    }\n",
       "\n",
       "    .dataframe tbody tr th {\n",
       "        vertical-align: top;\n",
       "    }\n",
       "\n",
       "    .dataframe thead th {\n",
       "        text-align: right;\n",
       "    }\n",
       "</style>\n",
       "<table border=\"1\" class=\"dataframe\">\n",
       "  <thead>\n",
       "    <tr style=\"text-align: right;\">\n",
       "      <th></th>\n",
       "      <th>Keyword_count</th>\n",
       "      <th>Concept_count</th>\n",
       "      <th>Keyword_Median</th>\n",
       "      <th>Concept_Median</th>\n",
       "      <th>Find</th>\n",
       "      <th>click</th>\n",
       "    </tr>\n",
       "  </thead>\n",
       "  <tbody>\n",
       "    <tr>\n",
       "      <th>count</th>\n",
       "      <td>1.020801e+07</td>\n",
       "      <td>1.020801e+07</td>\n",
       "      <td>1.020801e+07</td>\n",
       "      <td>1.020801e+07</td>\n",
       "      <td>1.020801e+07</td>\n",
       "      <td>1.020801e+07</td>\n",
       "    </tr>\n",
       "    <tr>\n",
       "      <th>mean</th>\n",
       "      <td>2.529607e+00</td>\n",
       "      <td>2.317479e+00</td>\n",
       "      <td>9.117404e-01</td>\n",
       "      <td>9.172127e-01</td>\n",
       "      <td>3.008430e+00</td>\n",
       "      <td>1.007113e+00</td>\n",
       "    </tr>\n",
       "    <tr>\n",
       "      <th>std</th>\n",
       "      <td>2.935030e+00</td>\n",
       "      <td>1.400184e+00</td>\n",
       "      <td>5.060845e-02</td>\n",
       "      <td>5.930908e-02</td>\n",
       "      <td>1.000679e+00</td>\n",
       "      <td>8.403950e-02</td>\n",
       "    </tr>\n",
       "    <tr>\n",
       "      <th>min</th>\n",
       "      <td>1.000000e+00</td>\n",
       "      <td>1.000000e+00</td>\n",
       "      <td>0.000000e+00</td>\n",
       "      <td>0.000000e+00</td>\n",
       "      <td>0.000000e+00</td>\n",
       "      <td>1.000000e+00</td>\n",
       "    </tr>\n",
       "    <tr>\n",
       "      <th>25%</th>\n",
       "      <td>1.000000e+00</td>\n",
       "      <td>1.000000e+00</td>\n",
       "      <td>8.877780e-01</td>\n",
       "      <td>8.819680e-01</td>\n",
       "      <td>2.000000e+00</td>\n",
       "      <td>1.000000e+00</td>\n",
       "    </tr>\n",
       "    <tr>\n",
       "      <th>50%</th>\n",
       "      <td>2.000000e+00</td>\n",
       "      <td>2.000000e+00</td>\n",
       "      <td>9.094250e-01</td>\n",
       "      <td>9.218265e-01</td>\n",
       "      <td>4.000000e+00</td>\n",
       "      <td>1.000000e+00</td>\n",
       "    </tr>\n",
       "    <tr>\n",
       "      <th>75%</th>\n",
       "      <td>3.000000e+00</td>\n",
       "      <td>3.000000e+00</td>\n",
       "      <td>9.421710e-01</td>\n",
       "      <td>9.544770e-01</td>\n",
       "      <td>4.000000e+00</td>\n",
       "      <td>1.000000e+00</td>\n",
       "    </tr>\n",
       "    <tr>\n",
       "      <th>max</th>\n",
       "      <td>5.000000e+01</td>\n",
       "      <td>8.000000e+00</td>\n",
       "      <td>9.998000e-01</td>\n",
       "      <td>9.899100e-01</td>\n",
       "      <td>5.000000e+00</td>\n",
       "      <td>2.000000e+00</td>\n",
       "    </tr>\n",
       "  </tbody>\n",
       "</table>\n",
       "</div>"
      ],
      "text/plain": [
       "       Keyword_count  Concept_count  Keyword_Median  Concept_Median  \\\n",
       "count   1.020801e+07   1.020801e+07    1.020801e+07    1.020801e+07   \n",
       "mean    2.529607e+00   2.317479e+00    9.117404e-01    9.172127e-01   \n",
       "std     2.935030e+00   1.400184e+00    5.060845e-02    5.930908e-02   \n",
       "min     1.000000e+00   1.000000e+00    0.000000e+00    0.000000e+00   \n",
       "25%     1.000000e+00   1.000000e+00    8.877780e-01    8.819680e-01   \n",
       "50%     2.000000e+00   2.000000e+00    9.094250e-01    9.218265e-01   \n",
       "75%     3.000000e+00   3.000000e+00    9.421710e-01    9.544770e-01   \n",
       "max     5.000000e+01   8.000000e+00    9.998000e-01    9.899100e-01   \n",
       "\n",
       "               Find         click  \n",
       "count  1.020801e+07  1.020801e+07  \n",
       "mean   3.008430e+00  1.007113e+00  \n",
       "std    1.000679e+00  8.403950e-02  \n",
       "min    0.000000e+00  1.000000e+00  \n",
       "25%    2.000000e+00  1.000000e+00  \n",
       "50%    4.000000e+00  1.000000e+00  \n",
       "75%    4.000000e+00  1.000000e+00  \n",
       "max    5.000000e+00  2.000000e+00  "
      ]
     },
     "execution_count": 151,
     "metadata": {},
     "output_type": "execute_result"
    }
   ],
   "source": [
    "train_model.describe()"
   ]
  },
  {
   "cell_type": "code",
   "execution_count": 152,
   "metadata": {},
   "outputs": [
    {
     "data": {
      "image/png": "[encoded data removed]",
      "text/plain": [
       "<matplotlib.figure.Figure at 0x116ca5dd0>"
      ]
     },
     "metadata": {},
     "output_type": "display_data"
    }
   ],
   "source": [
    "import pylab\n",
    "pylab.figure()\n",
    "pylab.hist(train_model.Keyword_Median)\n",
    "pylab.show()"
   ]
  },
  {
   "cell_type": "code",
   "execution_count": 153,
   "metadata": {},
   "outputs": [
    {
     "data": {
      "image/png": "[encoded data removed]",
      "text/plain": [
       "<matplotlib.figure.Figure at 0x1907f99d0>"
      ]
     },
     "metadata": {},
     "output_type": "display_data"
    }
   ],
   "source": [
    "import pylab\n",
    "pylab.figure()\n",
    "pylab.hist(train_model.Concept_Median)\n",
    "pylab.show()"
   ]
  },
  {
   "cell_type": "code",
   "execution_count": 155,
   "metadata": {},
   "outputs": [
    {
     "data": {
      "image/png": "[encoded data removed]",
      "text/plain": [
       "<matplotlib.figure.Figure at 0x118824990>"
      ]
     },
     "metadata": {},
     "output_type": "display_data"
    }
   ],
   "source": [
    "import pylab\n",
    "pylab.figure()\n",
    "pylab.hist(train_model.Concept_count)\n",
    "pylab.show()"
   ]
  },
  {
   "cell_type": "code",
   "execution_count": 156,
   "metadata": {},
   "outputs": [
    {
     "data": {
      "image/png": "[encoded data removed]",
      "text/plain": [
       "<matplotlib.figure.Figure at 0x1b64e2750>"
      ]
     },
     "metadata": {},
     "output_type": "display_data"
    }
   ],
   "source": [
    "import pylab\n",
    "pylab.figure()\n",
    "pylab.hist(train_model.Keyword_count)\n",
    "pylab.show()"
   ]
  },
  {
   "cell_type": "code",
   "execution_count": 158,
   "metadata": {},
   "outputs": [
    {
     "data": {
      "text/plain": [
       "1.0    3724626\n",
       "2.0    2542898\n",
       "3.0    2168676\n",
       "4.0    1071114\n",
       "5.0     415197\n",
       "7.0     110243\n",
       "6.0      96905\n",
       "8.0      78355\n",
       "Name: Concept_count, dtype: int64"
      ]
     },
     "execution_count": 158,
     "metadata": {},
     "output_type": "execute_result"
    }
   ],
   "source": [
    "train_model.Concept_count.value_counts()"
   ]
  },
  {
   "cell_type": "code",
   "execution_count": 159,
   "metadata": {},
   "outputs": [
    {
     "name": "stderr",
     "output_type": "stream",
     "text": [
      "/Users/sowmiyanmorri/anaconda/lib/python2.7/site-packages/ipykernel_launcher.py:1: SettingWithCopyWarning: \n",
      "A value is trying to be set on a copy of a slice from a DataFrame\n",
      "\n",
      "See the caveats in the documentation: http://pandas.pydata.org/pandas-docs/stable/indexing.html#indexing-view-versus-copy\n",
      "  \"\"\"Entry point for launching an IPython kernel.\n",
      "/Users/sowmiyanmorri/anaconda/lib/python2.7/site-packages/ipykernel_launcher.py:2: SettingWithCopyWarning: \n",
      "A value is trying to be set on a copy of a slice from a DataFrame\n",
      "\n",
      "See the caveats in the documentation: http://pandas.pydata.org/pandas-docs/stable/indexing.html#indexing-view-versus-copy\n",
      "  \n",
      "/Users/sowmiyanmorri/anaconda/lib/python2.7/site-packages/ipykernel_launcher.py:4: SettingWithCopyWarning: \n",
      "A value is trying to be set on a copy of a slice from a DataFrame\n",
      "\n",
      "See the caveats in the documentation: http://pandas.pydata.org/pandas-docs/stable/indexing.html#indexing-view-versus-copy\n",
      "  after removing the cwd from sys.path.\n",
      "/Users/sowmiyanmorri/anaconda/lib/python2.7/site-packages/ipykernel_launcher.py:5: SettingWithCopyWarning: \n",
      "A value is trying to be set on a copy of a slice from a DataFrame\n",
      "\n",
      "See the caveats in the documentation: http://pandas.pydata.org/pandas-docs/stable/indexing.html#indexing-view-versus-copy\n",
      "  \"\"\"\n"
     ]
    }
   ],
   "source": [
    "test_model.Keyword_Median.loc[test_model.Keyword_Median.isnull()]=np.median(train_model.Keyword_Median)\n",
    "test_model.Concept_Median.loc[test_model.Concept_Median.isnull()]=np.median(train_model.Concept_Median)\n",
    "\n",
    "test_model.Keyword_count.loc[test_model.Keyword_count.isnull()]=2.0\n",
    "test_model.Concept_count.loc[test_model.Concept_count.isnull()]=1.0"
   ]
  },
  {
   "cell_type": "code",
   "execution_count": 161,
   "metadata": {},
   "outputs": [
    {
     "data": {
      "text/html": [
       "<div>\n",
       "<style scoped>\n",
       "    .dataframe tbody tr th:only-of-type {\n",
       "        vertical-align: middle;\n",
       "    }\n",
       "\n",
       "    .dataframe tbody tr th {\n",
       "        vertical-align: top;\n",
       "    }\n",
       "\n",
       "    .dataframe thead th {\n",
       "        text-align: right;\n",
       "    }\n",
       "</style>\n",
       "<table border=\"1\" class=\"dataframe\">\n",
       "  <thead>\n",
       "    <tr style=\"text-align: right;\">\n",
       "      <th></th>\n",
       "      <th>impression_id</th>\n",
       "      <th>item_id</th>\n",
       "      <th>Keyword_count</th>\n",
       "      <th>Concept_count</th>\n",
       "      <th>Keyword_Median</th>\n",
       "      <th>Concept_Median</th>\n",
       "      <th>Find</th>\n",
       "    </tr>\n",
       "  </thead>\n",
       "  <tbody>\n",
       "    <tr>\n",
       "      <th>0</th>\n",
       "      <td>00023151-2f1e-429b-89a5-2f360dad9880-10nql</td>\n",
       "      <td>17066860</td>\n",
       "      <td>2.0</td>\n",
       "      <td>1.0</td>\n",
       "      <td>0.909425</td>\n",
       "      <td>0.921826</td>\n",
       "      <td>2</td>\n",
       "    </tr>\n",
       "    <tr>\n",
       "      <th>1</th>\n",
       "      <td>00023151-2f1e-429b-89a5-2f360dad9880-10nql</td>\n",
       "      <td>17277475</td>\n",
       "      <td>1.0</td>\n",
       "      <td>2.0</td>\n",
       "      <td>0.954875</td>\n",
       "      <td>0.913657</td>\n",
       "      <td>2</td>\n",
       "    </tr>\n",
       "    <tr>\n",
       "      <th>2</th>\n",
       "      <td>00023151-2f1e-429b-89a5-2f360dad9880-10nql</td>\n",
       "      <td>17325528</td>\n",
       "      <td>1.0</td>\n",
       "      <td>3.0</td>\n",
       "      <td>0.919055</td>\n",
       "      <td>0.863331</td>\n",
       "      <td>2</td>\n",
       "    </tr>\n",
       "    <tr>\n",
       "      <th>3</th>\n",
       "      <td>00023151-2f1e-429b-89a5-2f360dad9880-10nql</td>\n",
       "      <td>17325531</td>\n",
       "      <td>2.0</td>\n",
       "      <td>2.0</td>\n",
       "      <td>0.856676</td>\n",
       "      <td>0.914982</td>\n",
       "      <td>2</td>\n",
       "    </tr>\n",
       "    <tr>\n",
       "      <th>4</th>\n",
       "      <td>0004fb27-7548-46b6-9db7-666c2d9d7def-10wx4</td>\n",
       "      <td>17052046</td>\n",
       "      <td>2.0</td>\n",
       "      <td>1.0</td>\n",
       "      <td>0.909425</td>\n",
       "      <td>0.921826</td>\n",
       "      <td>2</td>\n",
       "    </tr>\n",
       "  </tbody>\n",
       "</table>\n",
       "</div>"
      ],
      "text/plain": [
       "                                impression_id   item_id  Keyword_count  \\\n",
       "0  00023151-2f1e-429b-89a5-2f360dad9880-10nql  17066860            2.0   \n",
       "1  00023151-2f1e-429b-89a5-2f360dad9880-10nql  17277475            1.0   \n",
       "2  00023151-2f1e-429b-89a5-2f360dad9880-10nql  17325528            1.0   \n",
       "3  00023151-2f1e-429b-89a5-2f360dad9880-10nql  17325531            2.0   \n",
       "4  0004fb27-7548-46b6-9db7-666c2d9d7def-10wx4  17052046            2.0   \n",
       "\n",
       "   Concept_count  Keyword_Median  Concept_Median  Find  \n",
       "0            1.0        0.909425        0.921826     2  \n",
       "1            2.0        0.954875        0.913657     2  \n",
       "2            3.0        0.919055        0.863331     2  \n",
       "3            2.0        0.856676        0.914982     2  \n",
       "4            1.0        0.909425        0.921826     2  "
      ]
     },
     "execution_count": 161,
     "metadata": {},
     "output_type": "execute_result"
    }
   ],
   "source": [
    "test_model.head()"
   ]
  },
  {
   "cell_type": "code",
   "execution_count": null,
   "metadata": {
    "collapsed": true
   },
   "outputs": [],
   "source": []
  },
  {
   "cell_type": "code",
   "execution_count": 363,
   "metadata": {
    "collapsed": true
   },
   "outputs": [],
   "source": [
    "#Check if impression_ids with no click and click are exclusive set\n",
    "imp_c=train.impression_id[train.click==2]\n",
    "imp_nc=train.impression_id[train.click==1]\n",
    "\n",
    "print len(list(set(imp_c)))#95526 impression id where click occurred\n",
    "print len(list(set(imp_nc)))#impresssion ids where no click occurred\n",
    "\n",
    "imp_c_specific=list(set(imp_c)-set(imp_nc))\n",
    "imp_nc_specific=list(set(imp_nc)-set(imp_c))"
   ]
  },
  {
   "cell_type": "code",
   "execution_count": 162,
   "metadata": {
    "collapsed": true
   },
   "outputs": [],
   "source": [
    "X = train_model.drop(['impression_id','item_id','click'],axis=1)\n",
    "y = train_model['click'].astype('int')\n",
    "x_test = test_model.drop(['impression_id','item_id'],axis=1)"
   ]
  },
  {
   "cell_type": "code",
   "execution_count": 169,
   "metadata": {},
   "outputs": [
    {
     "data": {
      "text/plain": [
       "1    10135402\n",
       "2       72612\n",
       "Name: click, dtype: int64"
      ]
     },
     "execution_count": 169,
     "metadata": {},
     "output_type": "execute_result"
    }
   ],
   "source": [
    "y.value_counts()"
   ]
  },
  {
   "cell_type": "code",
   "execution_count": 171,
   "metadata": {},
   "outputs": [],
   "source": [
    "y=y.map({1:0,2:1})"
   ]
  },
  {
   "cell_type": "code",
   "execution_count": 172,
   "metadata": {},
   "outputs": [
    {
     "data": {
      "text/plain": [
       "0    10135402\n",
       "1       72612\n",
       "Name: click, dtype: int64"
      ]
     },
     "execution_count": 172,
     "metadata": {},
     "output_type": "execute_result"
    }
   ],
   "source": [
    "y.value_counts()"
   ]
  },
  {
   "cell_type": "code",
   "execution_count": 163,
   "metadata": {},
   "outputs": [
    {
     "name": "stdout",
     "output_type": "stream",
     "text": [
      "(10208014, 5)\n",
      "(188798, 5)\n"
     ]
    }
   ],
   "source": [
    "print X.shape\n",
    "print x_test.shape"
   ]
  },
  {
   "cell_type": "code",
   "execution_count": 338,
   "metadata": {},
   "outputs": [
    {
     "name": "stdout",
     "output_type": "stream",
     "text": [
      "\n",
      "1 of kfold 2\n",
      "('roc_auc_score', 0.60223028533559342)\n",
      "\n",
      "2 of kfold 2\n",
      "('roc_auc_score', 0.60356403672886461)\n"
     ]
    }
   ],
   "source": [
    "from sklearn.model_selection import KFold, StratifiedKFold\n",
    "from sklearn.linear_model import LogisticRegression\n",
    "from sklearn.metrics import confusion_matrix, roc_auc_score ,roc_curve,accuracy_score\n",
    "kf = StratifiedKFold(n_splits=2,random_state=2018,shuffle=True)\n",
    "pred_test_full=0\n",
    "cv_score=[]\n",
    "i=1\n",
    "for train_index,test_index in kf.split(X,y):    \n",
    "    print('\\n{} of kfold {}'.format(i,kf.n_splits))\n",
    "    xtr,xvl = X.loc[train_index],X.loc[test_index]\n",
    "    ytr,yvl = y.loc[train_index],y.loc[test_index]\n",
    "    \n",
    "    lr = LogisticRegression(class_weight='balanced',C=1)\n",
    "    \n",
    "    lr.fit(xtr,ytr)\n",
    "    pred_test = lr.predict_proba(xvl)[:,1]\n",
    "    score = roc_auc_score(yvl,pred_test)\n",
    "    print('roc_auc_score',score)\n",
    "    cv_score.append(score)\n",
    "    pred_test_full += lr.predict_proba(x_test)[:,1]\n",
    "    i+=1"
   ]
  },
  {
   "cell_type": "code",
   "execution_count": 339,
   "metadata": {},
   "outputs": [
    {
     "data": {
      "text/plain": [
       "array([ 1.13579629,  1.19780184,  1.17960229, ...,  1.1317154 ,\n",
       "        1.14422514,  1.00930919])"
      ]
     },
     "execution_count": 339,
     "metadata": {},
     "output_type": "execute_result"
    }
   ],
   "source": [
    "pred_test_full"
   ]
  },
  {
   "cell_type": "code",
   "execution_count": 342,
   "metadata": {
    "collapsed": true
   },
   "outputs": [],
   "source": [
    "pred_log=pred_test_full/2\n",
    "x_l=pd.DataFrame(np.where(preds_xgb>0.09,2,1),columns=['click'])"
   ]
  },
  {
   "cell_type": "code",
   "execution_count": 402,
   "metadata": {},
   "outputs": [
    {
     "data": {
      "text/plain": [
       "1    0.96501\n",
       "2    0.03499\n",
       "Name: click, dtype: float64"
      ]
     },
     "execution_count": 402,
     "metadata": {},
     "output_type": "execute_result"
    }
   ],
   "source": [
    "x_l.click.value_counts()/x_l.shape[0]"
   ]
  },
  {
   "cell_type": "code",
   "execution_count": null,
   "metadata": {
    "collapsed": true
   },
   "outputs": [],
   "source": []
  },
  {
   "cell_type": "code",
   "execution_count": 377,
   "metadata": {
    "collapsed": true
   },
   "outputs": [],
   "source": [
    "import xgboost as xgb\n",
    "def runXGB(xtrain,xvalid,ytrain,yvalid,xtest,eta=0.1,num_rounds=10000,max_depth=4):\n",
    "    params = {\n",
    "        'objective':'binary:logistic',        \n",
    "        'max_depth':max_depth,\n",
    "        'learning_rate':eta,\n",
    "        'eval_metric':'auc',\n",
    "        'min_child_weight':6,\n",
    "        'subsample':0.8,\n",
    "        'colsample_bytree':0.8,\n",
    "        'seed':2018,\n",
    "        'reg_lambda':1.3,\n",
    "        'reg_alpha':8,\n",
    "        'gamma':10,\n",
    "        'scale_pos_weight':1.6\n",
    "        #'n_thread':-1\n",
    "    }\n",
    "  \n",
    "    weights = np.zeros(len(ytrain))\n",
    "    weights[ytrain == 0] = 1\n",
    "    weights[ytrain == 1] = 9  \n",
    "    dtrain = xgb.DMatrix(xtrain,label=ytrain,weight=weights)\n",
    "    dvalid = xgb.DMatrix(xvalid,label=yvalid)\n",
    "    dtest = xgb.DMatrix(xtest)\n",
    "    watchlist = [(dtrain,'train'),(dvalid,'test')]\n",
    "    \n",
    "    \n",
    "    model = xgb.train(params,dtrain,num_rounds,watchlist,early_stopping_rounds=20,maximize=True,verbose_eval=500)\n",
    "    pred_val = model.predict(dvalid,ntree_limit=model.best_ntree_limit)\n",
    "    pred_test = model.predict(dtest,ntree_limit=model.best_ntree_limit)\n",
    "    return pred_val,pred_test,model"
   ]
  },
  {
   "cell_type": "code",
   "execution_count": 477,
   "metadata": {},
   "outputs": [
    {
     "name": "stdout",
     "output_type": "stream",
     "text": [
      "1 of KFold 3\n",
      "[0]\ttrain-auc:0.63281\ttest-auc:0.640652\n",
      "Multiple eval metrics have been passed: 'test-auc' will be used for early stopping.\n",
      "\n",
      "Will train until test-auc hasn't improved in 20 rounds.\n",
      "[500]\ttrain-auc:0.710652\ttest-auc:0.68948\n",
      "Stopping. Best iteration:\n",
      "[738]\ttrain-auc:0.714529\ttest-auc:0.691963\n",
      "\n",
      "2 of KFold 3\n",
      "[0]\ttrain-auc:0.637886\ttest-auc:0.623022\n",
      "Multiple eval metrics have been passed: 'test-auc' will be used for early stopping.\n",
      "\n",
      "Will train until test-auc hasn't improved in 20 rounds.\n",
      "[500]\ttrain-auc:0.709043\ttest-auc:0.694942\n",
      "Stopping. Best iteration:\n",
      "[830]\ttrain-auc:0.714056\ttest-auc:0.699105\n",
      "\n",
      "3 of KFold 3\n",
      "[0]\ttrain-auc:0.633504\ttest-auc:0.625413\n",
      "Multiple eval metrics have been passed: 'test-auc' will be used for early stopping.\n",
      "\n",
      "Will train until test-auc hasn't improved in 20 rounds.\n",
      "[500]\ttrain-auc:0.713352\ttest-auc:0.687617\n",
      "Stopping. Best iteration:\n",
      "[500]\ttrain-auc:0.713352\ttest-auc:0.687617\n",
      "\n"
     ]
    }
   ],
   "source": [
    "kf = StratifiedKFold(n_splits=3,random_state=2018)\n",
    "pred_test_full =0\n",
    "cv_score = []\n",
    "i=1\n",
    "for train_index,test_index in kf.split(X,y):\n",
    "    print('{} of KFold {}'.format(i,kf.n_splits))\n",
    "    xtr,xvl = X.loc[train_index],X.loc[test_index]\n",
    "    ytr,yvl = y.loc[train_index],y.loc[test_index]\n",
    "    \n",
    "    pred_val_xg,pred_test,xg_model = runXGB(xtr,xvl,ytr,yvl,x_test,num_rounds=10000,eta=0.1)    \n",
    "    pred_test_full += pred_test/i\n",
    "    i+=1"
   ]
  },
  {
   "cell_type": "code",
   "execution_count": 478,
   "metadata": {},
   "outputs": [
    {
     "data": {
      "text/plain": [
       "array([ 0.08785807,  0.20193905,  0.28169203, ...,  0.13979144,\n",
       "        0.4670296 ,  0.42563623], dtype=float32)"
      ]
     },
     "execution_count": 478,
     "metadata": {},
     "output_type": "execute_result"
    }
   ],
   "source": [
    "pred_test_full"
   ]
  },
  {
   "cell_type": "code",
   "execution_count": 493,
   "metadata": {
    "collapsed": true
   },
   "outputs": [],
   "source": [
    "preds_xgb=pred_test_full/3"
   ]
  },
  {
   "cell_type": "code",
   "execution_count": 497,
   "metadata": {},
   "outputs": [
    {
     "data": {
      "text/plain": [
       "array([ 0.50732094,  0.51682192,  0.52345711, ...,  0.51164716,\n",
       "        0.53884077,  0.53541028], dtype=float32)"
      ]
     },
     "execution_count": 497,
     "metadata": {},
     "output_type": "execute_result"
    }
   ],
   "source": [
    "preds_xgb"
   ]
  },
  {
   "cell_type": "code",
   "execution_count": 494,
   "metadata": {
    "collapsed": true
   },
   "outputs": [],
   "source": [
    "preds_xgb =  1  /  ( 1 + np.exp(-preds_xgb) )"
   ]
  },
  {
   "cell_type": "code",
   "execution_count": 511,
   "metadata": {},
   "outputs": [],
   "source": [
    "x=pd.DataFrame(np.where(preds_xgb>0.56,2,1),columns=['click'])"
   ]
  },
  {
   "cell_type": "code",
   "execution_count": 512,
   "metadata": {},
   "outputs": [
    {
     "data": {
      "text/plain": [
       "1    188635\n",
       "2       163\n",
       "Name: click, dtype: int64"
      ]
     },
     "execution_count": 512,
     "metadata": {},
     "output_type": "execute_result"
    }
   ],
   "source": [
    "x.click.value_counts()"
   ]
  },
  {
   "cell_type": "code",
   "execution_count": 513,
   "metadata": {},
   "outputs": [
    {
     "data": {
      "text/html": [
       "<div>\n",
       "<style scoped>\n",
       "    .dataframe tbody tr th:only-of-type {\n",
       "        vertical-align: middle;\n",
       "    }\n",
       "\n",
       "    .dataframe tbody tr th {\n",
       "        vertical-align: top;\n",
       "    }\n",
       "\n",
       "    .dataframe thead th {\n",
       "        text-align: right;\n",
       "    }\n",
       "</style>\n",
       "<table border=\"1\" class=\"dataframe\">\n",
       "  <thead>\n",
       "    <tr style=\"text-align: right;\">\n",
       "      <th></th>\n",
       "      <th>impression_id</th>\n",
       "      <th>item_id</th>\n",
       "      <th>click</th>\n",
       "    </tr>\n",
       "  </thead>\n",
       "  <tbody>\n",
       "    <tr>\n",
       "      <th>0</th>\n",
       "      <td>00023151-2f1e-429b-89a5-2f360dad9880-10nql</td>\n",
       "      <td>17066860</td>\n",
       "      <td>1</td>\n",
       "    </tr>\n",
       "    <tr>\n",
       "      <th>1</th>\n",
       "      <td>00023151-2f1e-429b-89a5-2f360dad9880-10nql</td>\n",
       "      <td>17277475</td>\n",
       "      <td>1</td>\n",
       "    </tr>\n",
       "    <tr>\n",
       "      <th>2</th>\n",
       "      <td>00023151-2f1e-429b-89a5-2f360dad9880-10nql</td>\n",
       "      <td>17325528</td>\n",
       "      <td>1</td>\n",
       "    </tr>\n",
       "    <tr>\n",
       "      <th>3</th>\n",
       "      <td>00023151-2f1e-429b-89a5-2f360dad9880-10nql</td>\n",
       "      <td>17325531</td>\n",
       "      <td>1</td>\n",
       "    </tr>\n",
       "    <tr>\n",
       "      <th>4</th>\n",
       "      <td>0004fb27-7548-46b6-9db7-666c2d9d7def-10wx4</td>\n",
       "      <td>17052046</td>\n",
       "      <td>1</td>\n",
       "    </tr>\n",
       "  </tbody>\n",
       "</table>\n",
       "</div>"
      ],
      "text/plain": [
       "                                impression_id   item_id  click\n",
       "0  00023151-2f1e-429b-89a5-2f360dad9880-10nql  17066860      1\n",
       "1  00023151-2f1e-429b-89a5-2f360dad9880-10nql  17277475      1\n",
       "2  00023151-2f1e-429b-89a5-2f360dad9880-10nql  17325528      1\n",
       "3  00023151-2f1e-429b-89a5-2f360dad9880-10nql  17325531      1\n",
       "4  0004fb27-7548-46b6-9db7-666c2d9d7def-10wx4  17052046      1"
      ]
     },
     "execution_count": 513,
     "metadata": {},
     "output_type": "execute_result"
    }
   ],
   "source": [
    "submit = pd.DataFrame({'impression_id':test_model['impression_id'],'item_id':test_model['item_id'],'click':x.click})\n",
    "submit=submit[['impression_id','item_id','click']]\n",
    "submit.head()"
   ]
  },
  {
   "cell_type": "code",
   "execution_count": null,
   "metadata": {
    "collapsed": true
   },
   "outputs": [],
   "source": [
    "#0.1 -52.43 ;0.09-52.38"
   ]
  },
  {
   "cell_type": "code",
   "execution_count": 514,
   "metadata": {},
   "outputs": [
    {
     "data": {
      "text/plain": [
       "1    188635\n",
       "2       163\n",
       "Name: click, dtype: int64"
      ]
     },
     "execution_count": 514,
     "metadata": {},
     "output_type": "execute_result"
    }
   ],
   "source": [
    "submit.click.value_counts()"
   ]
  },
  {
   "cell_type": "code",
   "execution_count": 515,
   "metadata": {},
   "outputs": [
    {
     "name": "stderr",
     "output_type": "stream",
     "text": [
      "/Users/sowmiyanmorri/anaconda/lib/python2.7/site-packages/ipykernel_launcher.py:2: SettingWithCopyWarning: \n",
      "A value is trying to be set on a copy of a slice from a DataFrame\n",
      "\n",
      "See the caveats in the documentation: http://pandas.pydata.org/pandas-docs/stable/indexing.html#indexing-view-versus-copy\n",
      "  \n"
     ]
    }
   ],
   "source": [
    "submit.click[submit.impression_id.isin(imp_c_specific)]=2\n",
    "submit.click[submit.impression_id.isin(imp_nc_specific)]=1"
   ]
  },
  {
   "cell_type": "code",
   "execution_count": 516,
   "metadata": {},
   "outputs": [
    {
     "data": {
      "text/plain": [
       "1    0.995503\n",
       "2    0.004497\n",
       "Name: click, dtype: float64"
      ]
     },
     "execution_count": 516,
     "metadata": {},
     "output_type": "execute_result"
    }
   ],
   "source": [
    "submit.click.value_counts()/submit.shape[0]"
   ]
  },
  {
   "cell_type": "code",
   "execution_count": 489,
   "metadata": {
    "collapsed": true
   },
   "outputs": [],
   "source": [
    "submit.to_csv(\"Submission.csv\",index=False)"
   ]
  },
  {
   "cell_type": "code",
   "execution_count": 492,
   "metadata": {},
   "outputs": [
    {
     "data": {
      "text/html": [
       "<div>\n",
       "<style scoped>\n",
       "    .dataframe tbody tr th:only-of-type {\n",
       "        vertical-align: middle;\n",
       "    }\n",
       "\n",
       "    .dataframe tbody tr th {\n",
       "        vertical-align: top;\n",
       "    }\n",
       "\n",
       "    .dataframe thead th {\n",
       "        text-align: right;\n",
       "    }\n",
       "</style>\n",
       "<table border=\"1\" class=\"dataframe\">\n",
       "  <thead>\n",
       "    <tr style=\"text-align: right;\">\n",
       "      <th></th>\n",
       "      <th>impression_id</th>\n",
       "      <th>item_id</th>\n",
       "      <th>click</th>\n",
       "    </tr>\n",
       "  </thead>\n",
       "  <tbody>\n",
       "    <tr>\n",
       "      <th>0</th>\n",
       "      <td>00023151-2f1e-429b-89a5-2f360dad9880-10nql</td>\n",
       "      <td>17066860</td>\n",
       "      <td>0.087858</td>\n",
       "    </tr>\n",
       "    <tr>\n",
       "      <th>1</th>\n",
       "      <td>00023151-2f1e-429b-89a5-2f360dad9880-10nql</td>\n",
       "      <td>17277475</td>\n",
       "      <td>0.201939</td>\n",
       "    </tr>\n",
       "    <tr>\n",
       "      <th>2</th>\n",
       "      <td>00023151-2f1e-429b-89a5-2f360dad9880-10nql</td>\n",
       "      <td>17325528</td>\n",
       "      <td>0.281692</td>\n",
       "    </tr>\n",
       "    <tr>\n",
       "      <th>3</th>\n",
       "      <td>00023151-2f1e-429b-89a5-2f360dad9880-10nql</td>\n",
       "      <td>17325531</td>\n",
       "      <td>0.153995</td>\n",
       "    </tr>\n",
       "    <tr>\n",
       "      <th>4</th>\n",
       "      <td>0004fb27-7548-46b6-9db7-666c2d9d7def-10wx4</td>\n",
       "      <td>17052046</td>\n",
       "      <td>0.087858</td>\n",
       "    </tr>\n",
       "  </tbody>\n",
       "</table>\n",
       "</div>"
      ],
      "text/plain": [
       "                                impression_id   item_id     click\n",
       "0  00023151-2f1e-429b-89a5-2f360dad9880-10nql  17066860  0.087858\n",
       "1  00023151-2f1e-429b-89a5-2f360dad9880-10nql  17277475  0.201939\n",
       "2  00023151-2f1e-429b-89a5-2f360dad9880-10nql  17325528  0.281692\n",
       "3  00023151-2f1e-429b-89a5-2f360dad9880-10nql  17325531  0.153995\n",
       "4  0004fb27-7548-46b6-9db7-666c2d9d7def-10wx4  17052046  0.087858"
      ]
     },
     "execution_count": 492,
     "metadata": {},
     "output_type": "execute_result"
    }
   ],
   "source": [
    "submit = pd.DataFrame({'impression_id':test_model['impression_id'],'item_id':test_model['item_id'],'click':pred_test_full})\n",
    "submit=submit[['impression_id','item_id','click']]\n",
    "submit.to_csv(\"Submission_prob.csv\",index=False)\n",
    "submit.head()"
   ]
  },
  {
   "cell_type": "code",
   "execution_count": 517,
   "metadata": {
    "collapsed": true
   },
   "outputs": [],
   "source": [
    "def getCountVar(compute_df, count_df, var_name):\n",
    "\tgrouped_df = count_df.groupby(var_name)\n",
    "\tcount_dict = {}\n",
    "\tfor name, group in grouped_df:\n",
    "\t\tcount_dict[name] = group.shape[0]\n",
    "\n",
    "\tcount_list = []\n",
    "\tfor index, row in compute_df.iterrows():\n",
    "\t\tname = row[var_name]\n",
    "\t\tcount_list.append(count_dict.get(name, 0))\n",
    "\treturn count_list"
   ]
  },
  {
   "cell_type": "code",
   "execution_count": 518,
   "metadata": {
    "collapsed": true
   },
   "outputs": [],
   "source": [
    "submit[\"City_Category\"]  = getCountVar(submit, submit, \"item_id\")"
   ]
  },
  {
   "cell_type": "code",
   "execution_count": null,
   "metadata": {
    "collapsed": true
   },
   "outputs": [],
   "source": []
  },
  {
   "cell_type": "code",
   "execution_count": 370,
   "metadata": {},
   "outputs": [
    {
     "name": "stdout",
     "output_type": "stream",
     "text": [
      "\n",
      "1 of kfold 5\n"
     ]
    },
    {
     "ename": "ValueError",
     "evalue": "Reordering is not turned on, and the x array is not increasing: [1 1 1 ..., 0 0 0]",
     "output_type": "error",
     "traceback": [
      "\u001b[0;31m---------------------------------------------------------------------------\u001b[0m",
      "\u001b[0;31mValueError\u001b[0m                                Traceback (most recent call last)",
      "\u001b[0;32m<ipython-input-370-7b0df82a494e>\u001b[0m in \u001b[0;36m<module>\u001b[0;34m()\u001b[0m\n\u001b[1;32m     30\u001b[0m     \u001b[0mytr\u001b[0m\u001b[0;34m,\u001b[0m\u001b[0myvl\u001b[0m \u001b[0;34m=\u001b[0m \u001b[0my\u001b[0m\u001b[0;34m.\u001b[0m\u001b[0mloc\u001b[0m\u001b[0;34m[\u001b[0m\u001b[0mtrain_index\u001b[0m\u001b[0;34m]\u001b[0m\u001b[0;34m,\u001b[0m\u001b[0my\u001b[0m\u001b[0;34m.\u001b[0m\u001b[0mloc\u001b[0m\u001b[0;34m[\u001b[0m\u001b[0mtest_index\u001b[0m\u001b[0;34m]\u001b[0m\u001b[0;34m\u001b[0m\u001b[0m\n\u001b[1;32m     31\u001b[0m \u001b[0;34m\u001b[0m\u001b[0m\n\u001b[0;32m---> 32\u001b[0;31m     \u001b[0mpred_test\u001b[0m\u001b[0;34m,\u001b[0m\u001b[0mtest_loss\u001b[0m\u001b[0;34m,\u001b[0m\u001b[0met_model\u001b[0m \u001b[0;34m=\u001b[0m \u001b[0mrunET\u001b[0m\u001b[0;34m(\u001b[0m\u001b[0mxtr\u001b[0m\u001b[0;34m,\u001b[0m\u001b[0mxvl\u001b[0m\u001b[0;34m,\u001b[0m\u001b[0mytr\u001b[0m\u001b[0;34m,\u001b[0m\u001b[0myvl\u001b[0m\u001b[0;34m,\u001b[0m\u001b[0mx_test\u001b[0m\u001b[0;34m,\u001b[0m\u001b[0mdepth\u001b[0m\u001b[0;34m=\u001b[0m\u001b[0;36m20\u001b[0m\u001b[0;34m,\u001b[0m \u001b[0mleaf\u001b[0m\u001b[0;34m=\u001b[0m\u001b[0;36m10\u001b[0m\u001b[0;34m,\u001b[0m \u001b[0mfeat\u001b[0m\u001b[0;34m=\u001b[0m\u001b[0;36m0.2\u001b[0m\u001b[0;34m)\u001b[0m\u001b[0;34m\u001b[0m\u001b[0m\n\u001b[0m\u001b[1;32m     33\u001b[0m     \u001b[0mcv_score\u001b[0m\u001b[0;34m.\u001b[0m\u001b[0mappend\u001b[0m\u001b[0;34m(\u001b[0m\u001b[0mtest_loss\u001b[0m\u001b[0;34m)\u001b[0m\u001b[0;34m\u001b[0m\u001b[0m\n\u001b[1;32m     34\u001b[0m     \u001b[0mpred_test_full\u001b[0m \u001b[0;34m+=\u001b[0m \u001b[0mpred_test\u001b[0m\u001b[0;34m\u001b[0m\u001b[0m\n",
      "\u001b[0;32m<ipython-input-370-7b0df82a494e>\u001b[0m in \u001b[0;36mrunET\u001b[0;34m(xtrain, xvalid, ytrain, yvalid, xtest, depth, leaf, feat)\u001b[0m\n\u001b[1;32m     14\u001b[0m     \u001b[0mtest_loss\u001b[0m \u001b[0;34m=\u001b[0m \u001b[0;36m0\u001b[0m\u001b[0;34m\u001b[0m\u001b[0m\n\u001b[1;32m     15\u001b[0m     \u001b[0;32mif\u001b[0m \u001b[0myvalid\u001b[0m \u001b[0;32mis\u001b[0m \u001b[0;32mnot\u001b[0m \u001b[0mNone\u001b[0m\u001b[0;34m:\u001b[0m\u001b[0;34m\u001b[0m\u001b[0m\n\u001b[0;32m---> 16\u001b[0;31m         \u001b[0mtrain_loss\u001b[0m \u001b[0;34m=\u001b[0m \u001b[0mmetrics\u001b[0m\u001b[0;34m.\u001b[0m\u001b[0mauc\u001b[0m\u001b[0;34m(\u001b[0m\u001b[0mytrain\u001b[0m\u001b[0;34m,\u001b[0m \u001b[0mtrain_preds\u001b[0m\u001b[0;34m)\u001b[0m\u001b[0;34m\u001b[0m\u001b[0m\n\u001b[0m\u001b[1;32m     17\u001b[0m         \u001b[0mtest_loss\u001b[0m \u001b[0;34m=\u001b[0m \u001b[0mmetrics\u001b[0m\u001b[0;34m.\u001b[0m\u001b[0mauc\u001b[0m\u001b[0;34m(\u001b[0m\u001b[0myvalid\u001b[0m\u001b[0;34m,\u001b[0m \u001b[0mtest_preds\u001b[0m\u001b[0;34m)\u001b[0m\u001b[0;34m\u001b[0m\u001b[0m\n\u001b[1;32m     18\u001b[0m         \u001b[0;32mprint\u001b[0m \u001b[0;34m\"Depth, leaf, feat : \"\u001b[0m\u001b[0;34m,\u001b[0m \u001b[0mdepth\u001b[0m\u001b[0;34m,\u001b[0m \u001b[0mleaf\u001b[0m\u001b[0;34m,\u001b[0m \u001b[0mfeat\u001b[0m\u001b[0;34m\u001b[0m\u001b[0m\n",
      "\u001b[0;32m/Users/sowmiyanmorri/anaconda/lib/python2.7/site-packages/sklearn/metrics/ranking.pyc\u001b[0m in \u001b[0;36mauc\u001b[0;34m(x, y, reorder)\u001b[0m\n\u001b[1;32m     94\u001b[0m             \u001b[0;32melse\u001b[0m\u001b[0;34m:\u001b[0m\u001b[0;34m\u001b[0m\u001b[0m\n\u001b[1;32m     95\u001b[0m                 raise ValueError(\"Reordering is not turned on, and \"\n\u001b[0;32m---> 96\u001b[0;31m                                  \"the x array is not increasing: %s\" % x)\n\u001b[0m\u001b[1;32m     97\u001b[0m \u001b[0;34m\u001b[0m\u001b[0m\n\u001b[1;32m     98\u001b[0m     \u001b[0marea\u001b[0m \u001b[0;34m=\u001b[0m \u001b[0mdirection\u001b[0m \u001b[0;34m*\u001b[0m \u001b[0mnp\u001b[0m\u001b[0;34m.\u001b[0m\u001b[0mtrapz\u001b[0m\u001b[0;34m(\u001b[0m\u001b[0my\u001b[0m\u001b[0;34m,\u001b[0m \u001b[0mx\u001b[0m\u001b[0;34m)\u001b[0m\u001b[0;34m\u001b[0m\u001b[0m\n",
      "\u001b[0;31mValueError\u001b[0m: Reordering is not turned on, and the x array is not increasing: [1 1 1 ..., 0 0 0]"
     ]
    }
   ],
   "source": [
    "from sklearn import preprocessing, metrics, ensemble\n",
    "def runET(xtrain,xvalid,ytrain,yvalid,xtest,depth=20, leaf=10, feat=0.2):\n",
    "    model = ensemble.ExtraTreesClassifier(n_estimators = 100,\n",
    "                    max_depth = 20,\n",
    "                    min_samples_split = 2,\n",
    "                    min_samples_leaf = 10,\n",
    "                    max_features =  0.2,\n",
    "                    n_jobs = 6,\n",
    "                    random_state = 0)\n",
    "    model.fit(xtrain, ytrain)\n",
    "    train_preds = model.predict_proba(xtrain)[:,1]\n",
    "    test_preds = model.predict_proba(xvalid)[:,1]\n",
    "    test_preds2 = model.predict_proba(xtest)[:,1]\n",
    "    test_loss = 0\n",
    "    if yvalid is not None:\n",
    "        train_loss = metrics.auc(ytrain, train_preds)\n",
    "        test_loss = metrics.auc(yvalid, test_preds)\n",
    "        print \"Depth, leaf, feat : \", depth, leaf, feat\n",
    "        print \"Train and Test loss : \", train_loss, test_loss\n",
    "    return test_preds2, test_loss,model\n",
    "\n",
    "\n",
    "kf = StratifiedKFold(n_splits=5,random_state=2018)\n",
    "pred_test_full =0\n",
    "cv_score = []\n",
    "i=1\n",
    "for train_index,test_index in kf.split(X,y):    \n",
    "    print('\\n{} of kfold {}'.format(i,kf.n_splits))\n",
    "    xtr,xvl = X.loc[train_index],X.loc[test_index]\n",
    "    ytr,yvl = y.loc[train_index],y.loc[test_index]\n",
    "    \n",
    "    pred_test,test_loss,et_model = runET(xtr,xvl,ytr,yvl,x_test,depth=20, leaf=10, feat=0.2)\n",
    "    cv_score.append(test_loss)\n",
    "    pred_test_full += pred_test\n",
    "    i+=1"
   ]
  },
  {
   "cell_type": "code",
   "execution_count": null,
   "metadata": {
    "collapsed": true
   },
   "outputs": [],
   "source": []
  },
  {
   "cell_type": "code",
   "execution_count": null,
   "metadata": {
    "collapsed": true
   },
   "outputs": [],
   "source": []
  },
  {
   "cell_type": "code",
   "execution_count": null,
   "metadata": {
    "collapsed": true
   },
   "outputs": [],
   "source": []
  },
  {
   "cell_type": "code",
   "execution_count": null,
   "metadata": {
    "collapsed": true
   },
   "outputs": [],
   "source": []
  },
  {
   "cell_type": "code",
   "execution_count": null,
   "metadata": {
    "collapsed": true
   },
   "outputs": [],
   "source": []
  }
 ],
 "metadata": {
  "kernelspec": {
   "display_name": "Python 2",
   "language": "python",
   "name": "python2"
  },
  "language_info": {
   "codemirror_mode": {
    "name": "ipython",
    "version": 2
   },
   "file_extension": ".py",
   "mimetype": "text/x-python",
   "name": "python",
   "nbconvert_exporter": "python",
   "pygments_lexer": "ipython2",
   "version": "2.7.13"
  }
 },
 "nbformat": 4,
 "nbformat_minor": 2
}
